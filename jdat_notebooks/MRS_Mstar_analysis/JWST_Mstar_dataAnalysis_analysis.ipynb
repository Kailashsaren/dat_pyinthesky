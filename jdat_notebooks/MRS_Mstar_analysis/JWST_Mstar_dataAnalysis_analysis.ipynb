{
 "cells": [
  {
   "cell_type": "markdown",
   "metadata": {
    "slideshow": {
     "slide_type": "slide"
    }
   },
   "source": [
    "<a id=\"top\"></a>\n",
    "# MIRI MRS Spectroscopy of a Late M Star 2 - Data Anlysis and Visualization"
   ]
  },
  {
   "cell_type": "markdown",
   "metadata": {},
   "source": [
    "**Use case:** Extract spatial-spectral features from IFU cube and measure their attributes.<br>\n",
    "**Data:** Simulated [MIRI MRS](https://jwst-docs.stsci.edu/mid-infrared-instrument/miri-observing-modes/miri-medium-resolution-spectroscopy) spectrum of AGB star.<br>\n",
    "**Source of Simulations:** [MIRISim](https://www.stsci.edu/jwst/science-planning/proposal-planning-toolbox/mirisim)<br>\n",
    "**Pipeline Version:** [JWST Pipeline](https://jwst-docs.stsci.edu/jwst-data-reduction-pipeline)<br>\n",
    "**Tools:** specutils, jwst, photutils, astropy, aplpy, scipy.<br>\n",
    "**Cross-intrument:** NIRSpec, MIRI.<br>\n",
    "**Documentation:** This notebook is part of a STScI's larger [post-pipeline Data Analysis Tools Ecosystem](https://jwst-docs.stsci.edu/jwst-post-pipeline-data-analysis) and can be [downloaded](https://github.com/spacetelescope/dat_pyinthesky/tree/main/jdat_notebooks/MRS_Mstar_analysis) directly from the [JDAT Notebook Github directory](https://github.com/spacetelescope/jdat_notebooks).<br>\n",
    "\n",
    "**Note**: This notebook includes MIRI simulated data cubes obtained using MIRISim (https://wiki.miricle.org//bin/view/Public/MIRISim_Public)\n",
    "and run through the JWST pipeline (https://jwst-pipeline.readthedocs.io/en/latest/) of\n",
    "point sources with spectra representative of late M type stars.\n",
    "\n",
    "## Introduction\n",
    "\n",
    "This notebook analyzes one star represented by a dusty SED corresponding to the ISO SWS spectrum of\n",
    "W Per from Kraemer et al. (2002) and Sloan et al. (2003) to cover the MRS spectral range 5-28 microns.  Analysis of JWST spectral cubes requires extracting spatial-spectral features of interest and measuring their attributes. \n",
    "\n",
    "This is the second notebook, which will perform data analysis using `specutils`.  Specifically, it will fit a model photosphere/blackbody to the spectra.  Then it will calculate the centroids, line integrated flux and equivalent width for each dust and molecular feature. \n",
    "\n",
    "**This notebook utilizes reduced data created in the first notebook (JWST_Mstar_dataAnalysis_runpipeline.ipynb), although you don't have to run that notebook to use this notebook. All data created in notebook number 1 are available for download within this noteobok.**\n",
    "\n",
    "## To Do:\n",
    "- Make function to extract spectra from datacube using a different means of extraction.\n",
    "- Replace blackbody fit to the photosphere part of the spectra with a stellar photosphere model.\n",
    "- Make sure errors have been propagated correctly in the caculation of centroids, line integrated flux and equivalent widths. (Science Author)\n",
    "- Make simple function within the `specutils` framework to fit a continium and measure centroids, line integrated flux and equivalent widths of broad solid state and molecular features. "
   ]
  },
  {
   "cell_type": "markdown",
   "metadata": {
    "slideshow": {
     "slide_type": "slide"
    }
   },
   "source": [
    "## Import Packages"
   ]
  },
  {
   "cell_type": "code",
   "execution_count": 1,
   "metadata": {
    "slideshow": {
     "slide_type": "fragment"
    }
   },
   "outputs": [],
   "source": [
    "# Import useful python packages\n",
    "import numpy as np\n",
    "\n",
    "# Import packages to display images inline in the notebook\n",
    "import matplotlib.pyplot as plt    \n",
    "%matplotlib inline   \n",
    "\n",
    "# Set general plotting options\n",
    "params = {'legend.fontsize': '18', 'axes.labelsize': '18',\n",
    "         'axes.titlesize': '18', 'xtick.labelsize': '18',\n",
    "         'ytick.labelsize': '18', 'lines.linewidth': 2, 'axes.linewidth': 2, 'animation.html': 'html5'}\n",
    "plt.rcParams.update(params)\n",
    "plt.rcParams.update({'figure.max_open_warning': 0})"
   ]
  },
  {
   "cell_type": "code",
   "execution_count": 2,
   "metadata": {
    "jupyter": {
     "outputs_hidden": false
    },
    "pycharm": {
     "name": "#%%\n"
    }
   },
   "outputs": [
    {
     "name": "stderr",
     "output_type": "stream",
     "text": [
      "WARNING: AstropyDeprecationWarning: block_reduce was moved to the astropy.nddata.blocks module.  Please update your import statement. [astropy.nddata.utils]\n"
     ]
    }
   ],
   "source": [
    "# Import astropy packages \n",
    "from astropy import units as u\n",
    "from astropy.io import ascii\n",
    "from astropy.wcs import WCS\n",
    "from astropy.table import Table, vstack\n",
    "from astropy.stats import sigma_clipped_stats\n",
    "from astropy.nddata import StdDevUncertainty\n",
    "from astropy.io import fits # added by BAS on 8 April 2021\n",
    "from astropy.utils.data import get_pkg_data_filename\n",
    "from astropy.utils.data import download_file\n",
    "\n",
    "# To find stars in the MRS spectralcubes and do aperture photometry\n",
    "from photutils import DAOStarFinder, CircularAperture\n",
    "\n",
    "# To deal with 1D spectrum\n",
    "from specutils import Spectrum1D\n",
    "from specutils.fitting import fit_generic_continuum\n",
    "from specutils.manipulation import box_smooth, extract_region, SplineInterpolatedResampler\n",
    "from specutils.analysis import line_flux, centroid, equivalent_width\n",
    "from specutils.spectra import SpectralRegion\n",
    "from specutils import SpectrumList\n",
    "\n",
    "# To make nice plots with WCS axis\n",
    "import aplpy\n",
    "\n",
    "# To fit a curve to the data\n",
    "from scipy.optimize import curve_fit"
   ]
  },
  {
   "cell_type": "code",
   "execution_count": 3,
   "metadata": {},
   "outputs": [],
   "source": [
    "# Save and Load Objects Using Pickle\n",
    "import pickle\n",
    "\n",
    "def save_obj(obj, name):\n",
    "    with open(name, 'wb') as f:\n",
    "        pickle.dump(obj, f, pickle.HIGHEST_PROTOCOL)\n",
    "\n",
    "\n",
    "def load_obj(name):\n",
    "    with open(name, 'rb') as f:\n",
    "        return pickle.load(f)"
   ]
  },
  {
   "cell_type": "code",
   "execution_count": 4,
   "metadata": {},
   "outputs": [],
   "source": [
    "def checkKey(dict, key):\n",
    "      \n",
    "    if key in dict.keys():\n",
    "        print(\"Present, \", end =\" \")\n",
    "        print(\"value =\", dict[key])\n",
    "        return(True)\n",
    "    else:\n",
    "        print(\"Not present\")\n",
    "        return(False)"
   ]
  },
  {
   "cell_type": "code",
   "execution_count": 5,
   "metadata": {},
   "outputs": [],
   "source": [
    "import warnings\n",
    "warnings.simplefilter('ignore')"
   ]
  },
  {
   "cell_type": "code",
   "execution_count": 6,
   "metadata": {},
   "outputs": [
    {
     "name": "stdout",
     "output_type": "stream",
     "text": [
      "Pipeline 3 Data Exists\n"
     ]
    }
   ],
   "source": [
    "# Check if Pipeline 3 Reduced data exists and, if not, download it\n",
    "import os\n",
    "import urllib.request\n",
    "\n",
    "if os.path.exists(\"combine_dithers_all_exposures_ch1-long_s3d.fits\"):\n",
    "    print(\"Pipeline 3 Data Exists\")\n",
    "else:\n",
    "    url = 'https://data.science.stsci.edu/redirect/JWST/jwst-data_analysis_tools/MRS_Mstar_analysis/reduced.tar.gz'\n",
    "    urllib.request.urlretrieve(url, './reduced.tar.gz')\n",
    "    # Unzip Tar Files\n",
    "\n",
    "    import tarfile\n",
    "\n",
    "    # Unzip files if they haven't already been unzipped\n",
    "    if os.path.exists(\"reduced/\"):\n",
    "        print(\"Pipeline 3 Data Exists\")\n",
    "    else:\n",
    "        tar = tarfile.open('./reduced.tar.gz', \"r:gz\")\n",
    "        tar.extractall()\n",
    "        tar.close()\n",
    "        \n",
    "    # Move Files \n",
    "    os.system('mv reduced/*fits .')"
   ]
  },
  {
   "cell_type": "markdown",
   "metadata": {},
   "source": [
    "Read in 12 spectra from Notebook 1 using [SpectrumList](https://specutils.readthedocs.io/en/stable/api/specutils.SpectrumList.html) and create one master spectrum. \n",
    "MIRI MRS data will typically have a separate 1D spectrum and 3D cube associated with each Channel and Sub-Band."
   ]
  },
  {
   "cell_type": "code",
   "execution_count": 7,
   "metadata": {},
   "outputs": [],
   "source": [
    "# Read in all X1D spectra to a single spectrum list and combine into a single spectrum1d object\n",
    "\n",
    "ddd = '.'\n",
    "splist = SpectrumList.read(ddd)\n",
    "\n",
    "wlallorig = []\n",
    "fnuallorig = []\n",
    "dfnuallorig = []\n",
    "for bndind in range(len(splist)):\n",
    "    for wlind in range(len(splist[bndind].spectral_axis)):\n",
    "        wlallorig.append(splist[bndind].spectral_axis[wlind].value)\n",
    "        fnuallorig.append(splist[bndind].flux[wlind].value)\n",
    "        dfnuallorig.append(splist[bndind].uncertainty[wlind].array)\n",
    "\n",
    "wlallarr = np.array(wlallorig)\n",
    "fnuallarr = np.array(fnuallorig)\n",
    "dfnuallarr = np.array(dfnuallorig)\n",
    "srtind = np.argsort(wlallarr)\n",
    "wlall = wlallarr[srtind]\n",
    "fnuall = fnuallarr[srtind]\n",
    "\n",
    "# Developer Note: We put in errors of 0.0001, but uncertainties need to be fixed\n",
    "dfnuall = (0.0001)*np.ones(len(fnuall))\n"
   ]
  },
  {
   "cell_type": "raw",
   "metadata": {},
   "source": [
    "# To accesss different spectra from your list, you can call the following:\n",
    "print(splist[0].spectral_axis)"
   ]
  },
  {
   "cell_type": "markdown",
   "metadata": {},
   "source": [
    "#### Developer Note: At this point, the 12 extracted 1D spectra need to get spliced together with a specialty function written for MRS.  "
   ]
  },
  {
   "cell_type": "code",
   "execution_count": 8,
   "metadata": {},
   "outputs": [
    {
     "data": {
      "image/png": "[encoded data removed]",
      "text/plain": [
       "<Figure size 576x288 with 1 Axes>"
      ]
     },
     "metadata": {
      "needs_background": "light"
     },
     "output_type": "display_data"
    }
   ],
   "source": [
    "wav = wlall*u.micron # Wavelength: microns\n",
    "fl = fnuall*u.Jy # Fnu:  Jy\n",
    "efl = dfnuall*u.Jy # Error flux: Jy\n",
    "\n",
    "# Make a 1D spectrum object\n",
    "spec = Spectrum1D(spectral_axis=wav, flux=fl, uncertainty=StdDevUncertainty(efl))\n",
    "\n",
    "# Apply a 5 pixel boxcar smoothing to the spectrum\n",
    "spec_bsmooth = box_smooth(spec, width=5)   \n",
    "\n",
    "# Plot the spectrum & smoothed spectrum to inspect features \n",
    "plt.figure(figsize = (8,4))\n",
    "plt.plot(spec.spectral_axis, spec.flux, label='Source')\n",
    "plt.plot(spec.spectral_axis, spec_bsmooth.flux, label='Smoothed')\n",
    "plt.xlabel('Wavelength (microns)')\n",
    "plt.ylabel(\"Flux ({:latex})\".format(spec.flux.unit))\n",
    "plt.ylim(-0.05,0.15)\n",
    "\n",
    "# Overplot the original input spectrum for comparison\n",
    "origspecfile = fn = download_file('https://data.science.stsci.edu/redirect/JWST/jwst-data_analysis_tools/MRS_Mstar_analysis/63702662.txt', cache=False)\n",
    "origdata = ascii.read(origspecfile)\n",
    "wlorig = origdata['col1']\n",
    "fnujyorig = origdata['col2']*0.001 # comes in as mJy, change to Jy to compare with pipeline output\n",
    "plt.plot(wlorig,fnujyorig, '.', color='grey', markersize=1, label='Original Input')\n",
    "\n",
    "plt.legend(frameon=False, fontsize='medium')\n",
    "plt.tight_layout()\n",
    "plt.show()\n",
    "plt.close()"
   ]
  },
  {
   "cell_type": "markdown",
   "metadata": {},
   "source": [
    "## Specviz Visualization\n",
    "\n",
    "You can also visualize the spectrum list inside a Jupyter notebook using Specviz"
   ]
  },
  {
   "cell_type": "markdown",
   "metadata": {},
   "source": [
    "## Video1:\n",
    "    \n",
    "This Specviz Instructional Demo is from STScI's official YouTube channel and provides an introduction to Cubeviz."
   ]
  },
  {
   "cell_type": "code",
   "execution_count": 9,
   "metadata": {},
   "outputs": [
    {
     "data": {
      "image/jpeg": "[encoded data removed]",
      "text/html": [
       "\n",
       "        <iframe\n",
       "            width=\"400\"\n",
       "            height=\"300\"\n",
       "            src=\"https://www.youtube.com/embed/zLyRnfG32Bo\"\n",
       "            frameborder=\"0\"\n",
       "            allowfullscreen\n",
       "            \n",
       "        ></iframe>\n",
       "        "
      ],
      "text/plain": [
       "<IPython.lib.display.YouTubeVideo at 0x7ff000312e80>"
      ]
     },
     "metadata": {},
     "output_type": "display_data"
    }
   ],
   "source": [
    "from IPython.display import HTML, YouTubeVideo\n",
    "\n",
    "vid = YouTubeVideo(\"zLyRnfG32Bo\")\n",
    "display(vid)"
   ]
  },
  {
   "cell_type": "code",
   "execution_count": 10,
   "metadata": {
    "scrolled": false
   },
   "outputs": [
    {
     "data": {
      "application/vnd.jupyter.widget-view+json": {
       "model_id": "aa4adad0c7204fb8bb657b262afd27e3",
       "version_major": 2,
       "version_minor": 0
      },
      "text/plain": [
       "Application(config='specviz', events=['call_viewer_method', 'close_snackbar_message', 'data_item_selected', 'd…"
      ]
     },
     "metadata": {},
     "output_type": "display_data"
    }
   ],
   "source": [
    "# Open these spectra up in Specviz\n",
    "from jdaviz import Specviz\n",
    "\n",
    "specviz = Specviz()\n",
    "specviz.app"
   ]
  },
  {
   "cell_type": "markdown",
   "metadata": {},
   "source": [
    "#### Load in the spectrum list from above. Note, only the first spectrum in your list is displayed automatically. You will need to turn on the remaining spectra in the \"DATA\" drop-down, then hit the \"Home\" button in the toolbar, and scale our plot accordingly to see the other spectra."
   ]
  },
  {
   "cell_type": "code",
   "execution_count": 11,
   "metadata": {},
   "outputs": [],
   "source": [
    "# Load in the spectrum list from above. \n",
    "specviz.load_spectrum(splist)"
   ]
  },
  {
   "cell_type": "markdown",
   "metadata": {},
   "source": [
    "## Cubeviz Visualization\n",
    "\n",
    "You can also visualize images inside a Jupyter notebook using Cubeviz\n"
   ]
  },
  {
   "cell_type": "markdown",
   "metadata": {},
   "source": [
    "## Video2:\n",
    "    \n",
    "This Cubeviz Instructional Demo is from STScI's official YouTube channel and provides an introduction to Cubeviz."
   ]
  },
  {
   "cell_type": "code",
   "execution_count": null,
   "metadata": {},
   "outputs": [],
   "source": [
    "from IPython.display import HTML, YouTubeVideo\n",
    "\n",
    "vid = YouTubeVideo(\"HMSYwiH3Gl4\")\n",
    "display(vid)"
   ]
  },
  {
   "cell_type": "code",
   "execution_count": null,
   "metadata": {
    "scrolled": false
   },
   "outputs": [],
   "source": [
    "from jdaviz import Cubeviz\n",
    "\n",
    "cubeviz = Cubeviz()\n",
    "cubeviz.app"
   ]
  },
  {
   "cell_type": "markdown",
   "metadata": {},
   "source": [
    "#### Developer Note. Need to pick a different unit than meters. https://jira.stsci.edu/browse/JDAT-1792"
   ]
  },
  {
   "cell_type": "code",
   "execution_count": null,
   "metadata": {},
   "outputs": [],
   "source": [
    "# Here, we load the data into the Cubeviz app for visual inspection.  \n",
    "# In this case, we're just looking at a single channel because, unlike Specviz, Cubeviz can only load a single cube at a time.\n",
    "\n",
    "ch1short_cubefile = 'combine_dithers_all_exposures_ch1-long_s3d.fits'\n",
    "cubeviz.load_data(ch1short_cubefile)"
   ]
  },
  {
   "cell_type": "markdown",
   "metadata": {},
   "source": [
    "Next, you want to define a pixel region subset that is specific to the AGB star.  You can do this with the regions utility button shown in the video below and drawing a circular region around the AGB star at approximate pixels x=20, y=30."
   ]
  },
  {
   "cell_type": "markdown",
   "metadata": {},
   "source": [
    "## Video3:\n",
    "    \n",
    "Here is a video that quickly shows how to select a spatial region in Cubeviz."
   ]
  },
  {
   "cell_type": "code",
   "execution_count": null,
   "metadata": {
    "scrolled": false
   },
   "outputs": [],
   "source": [
    "# Video showing the selection of the star with a circular region of interest\n",
    "from IPython.display import HTML\n",
    "HTML('<iframe width=\"700\" height=\"500\" src=\"https://data.science.stsci.edu/redirect/JWST/jwst-data_analysis_tools/MRS_Mstar_analysis/region_select.mov\" frameborder=\"0\" allowfullscreen></iframe>')"
   ]
  },
  {
   "cell_type": "code",
   "execution_count": null,
   "metadata": {},
   "outputs": [],
   "source": [
    "# Now extract spectrum from your spectral viewer\n",
    "spec_agb = cubeviz.app.get_data_from_viewer('spectrum-viewer', 'Subset 1') # AGB star only"
   ]
  },
  {
   "cell_type": "markdown",
   "metadata": {},
   "source": [
    "#### Developer Note: Since Cubeviz only displays a single cube at a time, you can't extract a full spectrum at the current time. So, you should use the spectrum defined above ('spec')\n"
   ]
  },
  {
   "cell_type": "raw",
   "metadata": {},
   "source": [
    "# Check to see if user drew a subset in cubeviz. If not, define spec_agb as just the original spectrum.\n",
    "if not spec_agb:\n",
    "    spec_agb = spec\n",
    "    print(\"defining spec_agb=spec\")\n",
    "else: \n",
    "    print(\"spec_agb defined.\")\n"
   ]
  },
  {
   "cell_type": "code",
   "execution_count": null,
   "metadata": {},
   "outputs": [],
   "source": [
    "spec_agb = spec"
   ]
  },
  {
   "cell_type": "markdown",
   "metadata": {},
   "source": [
    "## Specviz Visualization\n",
    "\n",
    "You can visualize the extracted spectrum inside Specviz"
   ]
  },
  {
   "cell_type": "code",
   "execution_count": null,
   "metadata": {
    "scrolled": false
   },
   "outputs": [],
   "source": [
    "# Open these spectra up in Specviz\n",
    "specviz = Specviz()\n",
    "specviz.app"
   ]
  },
  {
   "cell_type": "markdown",
   "metadata": {},
   "source": [
    "#### Developer Note: Cannot currently open a spectrum1d output from cubeviz in specviz.  https://jira.stsci.edu/browse/JDAT-1791\n",
    "\n",
    "#specviz.load_spectrum(spec_agb)"
   ]
  },
  {
   "cell_type": "code",
   "execution_count": null,
   "metadata": {},
   "outputs": [],
   "source": [
    "# For now, you must create your own spectrum1d object from your extracted cubeviz spectrum.  \n",
    "flux = spec_agb.flux\n",
    "wavelength = spec_agb.spectral_axis\n",
    "spec1d = Spectrum1D(spectral_axis=wavelength, flux=flux)\n",
    "specviz.load_spectrum(spec1d)"
   ]
  },
  {
   "cell_type": "raw",
   "metadata": {},
   "source": [
    "# To load the entire x1d spectrum loaded earlier, you can use this command instead\n",
    "specviz.load_spectrum(spec)"
   ]
  },
  {
   "cell_type": "markdown",
   "metadata": {},
   "source": [
    "## Video4:\n",
    "    \n",
    "Here is a video that quickly shows how to smooth your spectrum in Specviz."
   ]
  },
  {
   "cell_type": "code",
   "execution_count": null,
   "metadata": {},
   "outputs": [],
   "source": [
    "# Video showing how to smooth a spectrum in Specviz\n",
    "HTML('<iframe width=\"700\" height=\"500\" src=\"https://data.science.stsci.edu/redirect/JWST/jwst-data_analysis_tools/MRS_Mstar_analysis/smooth.mov\" frameborder=\"0\" allowfullscreen></iframe>')"
   ]
  },
  {
   "cell_type": "markdown",
   "metadata": {},
   "source": [
    "##  Data analysis \n",
    "\n",
    "Analyze the spectrum1d object (spec) created from the spectrumlist list above."
   ]
  },
  {
   "cell_type": "markdown",
   "metadata": {},
   "source": [
    "#### Fit a continuum - find the best-fitting template (stellar photosphere model or blackbody)\n",
    "\n",
    "For AGB stars with a photosphere component fit a stellar photosphere model or a blackbody to short wavelength end of the spectra.\n",
    "\n",
    "#### Developer Note: Would idealy like to fit the photosphere with a set of Phoenix Models.\n",
    "I think `template_comparison` may be a good function here to work with the Phoenix Models which have been setup to\n",
    "interface with `pysynphot`.<br>\n",
    "For now switching to a blackbody."
   ]
  },
  {
   "cell_type": "markdown",
   "metadata": {},
   "source": [
    "## Video5:\n",
    "    \n",
    "Here is a video that shows how to fit a blackbody model to the spectrum"
   ]
  },
  {
   "cell_type": "code",
   "execution_count": null,
   "metadata": {
    "scrolled": false
   },
   "outputs": [],
   "source": [
    "# Video showing how to fit a blackbody \n",
    "HTML('<iframe width=\"700\" height=\"500\" src=\"https://data.science.stsci.edu/redirect/JWST/jwst-data_analysis_tools/MRS_Mstar_analysis/blackbody_fit.mov\" frameborder=\"0\" allowfullscreen></iframe>')"
   ]
  },
  {
   "cell_type": "code",
   "execution_count": null,
   "metadata": {},
   "outputs": [],
   "source": [
    "spectra = specviz.get_spectra()\n",
    "   \n",
    "a = checkKey(spectra, \"BB1\")\n",
    "if a is True:\n",
    "    # Extract Blackbody fit from Specviz\n",
    "    blackbody = spectra[\"BB1\"]\n",
    "if a is False:\n",
    "    print(\"No Blackbody\")\n",
    "    fn = download_file('https://data.science.stsci.edu/redirect/JWST/jwst-data_analysis_tools/MRS_Mstar_analysis/blackbody.fits', cache=False)\n",
    "    blackbody = Spectrum1D.read(fn)"
   ]
  },
  {
   "cell_type": "code",
   "execution_count": null,
   "metadata": {},
   "outputs": [],
   "source": [
    "# Delete any existing output in current directory\n",
    "if os.path.exists(\"blackbody.fits\"):\n",
    "    os.remove(\"blackbody.fits\")\n",
    "else:\n",
    "    print(\"The blackbody.fits file does not exist\")"
   ]
  },
  {
   "cell_type": "code",
   "execution_count": null,
   "metadata": {},
   "outputs": [],
   "source": [
    "# Save if you so desire. Keep commented otherwise.\n",
    "# blackbody.write('blackbody.fits')"
   ]
  },
  {
   "cell_type": "code",
   "execution_count": null,
   "metadata": {},
   "outputs": [],
   "source": [
    "#rename blackbody.flux as ybest\n",
    "ybest = blackbody.flux"
   ]
  },
  {
   "cell_type": "raw",
   "metadata": {},
   "source": [
    "def blackbody_Fnu(lam, T, A):\n",
    "    \"\"\" Blackbody as a function of wavelength (um) and temperature (K).\n",
    "        Function returns the Planck function in f_nu units\n",
    "        # [Y Jy] = 1.0E+23 * [X erg/cm^2/s/Hz] = 10E+26  [X Watts/m^2/Hz]\n",
    "    \"\"\"\n",
    "    from scipy.constants import h, k, c\n",
    "    lam = 1e-6 * lam                                              # convert to metres\n",
    "    bb_nu = 2*h*c / (lam**3 * (np.exp(h*c / (lam*k*T)) - 1))      # units of W/m^2/Hz/Steradian ; f_nu units\n",
    "    return A * bb_nu"
   ]
  },
  {
   "cell_type": "code",
   "execution_count": null,
   "metadata": {},
   "outputs": [],
   "source": [
    "# Plot the spectrum & the model fit to the short wavelength region of the data.\n",
    "plt.figure(figsize=(8, 4))\n",
    "plt.plot(spec.spectral_axis, spec.flux, label='Source')\n",
    "plt.plot(spec.spectral_axis, ybest, label='BB')\n",
    "plt.xlabel('Wavelength (microns)')\n",
    "plt.ylabel(\"Flux ({:latex})\".format(spec.flux.unit))\n",
    "plt.title(\"Spectrum with blackbody fit\")\n",
    "plt.legend(frameon=False, fontsize='medium')\n",
    "plt.tight_layout()\n",
    "plt.ylim(-0.05, 0.15)\n",
    "plt.show()\n",
    "plt.close()\n",
    "\n",
    "# Now subtract the BB and plot the underlying dust continuum\n",
    "plt.figure(figsize=(8,4))\n",
    "plt.plot(spec.spectral_axis, spec.flux.value - ybest.value, color='purple', label='Dust spectra')\n",
    "plt.axhline(0, color='r', linestyle='dashdot', alpha=0.5)\n",
    "plt.xlabel('Wavelength (microns)')\n",
    "plt.ylabel(\"Flux ({:latex})\".format(spec.flux.unit))\n",
    "plt.title(\"Continuum-subtracted spectrum\")\n",
    "plt.legend(frameon=False, fontsize='medium')\n",
    "plt.tight_layout()\n",
    "plt.ylim(-0.05, 0.15)\n",
    "plt.show()\n",
    "plt.close()"
   ]
  },
  {
   "cell_type": "markdown",
   "metadata": {},
   "source": [
    "### Now have the dust continuum want to look for features and measure their properties.\n",
    "\n",
    "Want to find:\n",
    "- Equivalent width\n",
    "- Equivalent flux\n",
    "- Optical depth\n",
    "- Centroids = wavelength with half the flux on either side\n",
    "\n",
    "#### As an example lets focus on the amorphous silicate 10 micron region.\n",
    "\n",
    "**Method - used repeatedly**\n",
    "\n",
    "- Fit a spline to the photosphere continuum subtracted spectra excluding the feature in this fit.\n",
    "- Trim the spectra to that wavelength region as the spline is now a different size to the full wavelength range of the\n",
    "spectra.\n",
    "- Make a continuum subtracted and and continuum normalised spectra.\n",
    "- Convert the units of the flux from Jy to W/m^2/wavelength for nice units post line integration. \n",
    "- Determine the feature line flux in units of W/m^2 and the feature centroid. Use continuum subtracted spectra.\n",
    "- Determine the feature equivalent width. Use continuum normalised spectra.\n",
    "- Make sure errors have been propagated correctly.\n",
    "- Store these results in a table \n",
    "- Several molecular and dust features are normally present in the spectra. Repeat for each feature.\n",
    "\n",
    "**Note**\n",
    "This seems like a long winded way to do this. Is there a simpler approach?\n",
    "\n",
    "> For instance a tool that takes four wavelengths, fits a line using the data from  lam0 to lam1 and lam2 to lam3, then\n",
    ">passes the continuum-subtracted  spectrum for line integration from lam1 to lam2 with error propagation is needed\n",
    ">several times for dust features. But with the current spectra1d framework this takes many steps to write manually and\n",
    ">is beyond tedious after doing this for 2 features let alone 20+.  Similar framework is also needed for the integrated\n",
    ">line centroid with uncertainty, and the extracted equivalent width."
   ]
  },
  {
   "cell_type": "code",
   "execution_count": null,
   "metadata": {},
   "outputs": [],
   "source": [
    "# Subtract the continuum and plot in a new instance of specviz\n",
    "bbsub_spectra = spec - ybest.value     # continuum subtracted spectra - Dust only"
   ]
  },
  {
   "cell_type": "code",
   "execution_count": null,
   "metadata": {},
   "outputs": [],
   "source": [
    "specviz = Specviz()\n",
    "specviz.app"
   ]
  },
  {
   "cell_type": "code",
   "execution_count": null,
   "metadata": {},
   "outputs": [],
   "source": [
    "specviz.load_spectrum(bbsub_spectra)"
   ]
  },
  {
   "cell_type": "markdown",
   "metadata": {},
   "source": [
    "## Video6:\n",
    "    \n",
    "Here is a video that shows how to fit a polynomial to two separate spectral regions within a single subset to remove more underlying continuum"
   ]
  },
  {
   "cell_type": "code",
   "execution_count": null,
   "metadata": {},
   "outputs": [],
   "source": [
    "# Video showing how to fit a polynomial to two separate spectral regions within a single subset\n",
    "HTML('<iframe width=\"700\" height=\"500\" src=\"https://data.science.stsci.edu/redirect/JWST/jwst-data_analysis_tools/MRS_Mstar_analysis/poly_fit.mov\" frameborder=\"0\" allowfullscreen></iframe>')"
   ]
  },
  {
   "cell_type": "code",
   "execution_count": null,
   "metadata": {},
   "outputs": [],
   "source": [
    "spectra = specviz.get_spectra()\n",
    "   \n",
    "a = checkKey(spectra, \"PolyFit\")\n",
    "if a is True:\n",
    "    # Extract Blackbody fit from Specviz\n",
    "    blackbody = spectra[\"PolyFit\"]\n",
    "if a is False:\n",
    "    print(\"No Polyfit\")\n",
    "    fn = download_file('https://data.science.stsci.edu/redirect/JWST/jwst-data_analysis_tools/MRS_Mstar_analysis/poly.fits', cache=False)\n",
    "    poly = Spectrum1D.read(fn)"
   ]
  },
  {
   "cell_type": "code",
   "execution_count": null,
   "metadata": {},
   "outputs": [],
   "source": [
    "# Delete any existing output in current directory\n",
    "if os.path.exists(\"poly.fits\"):\n",
    "    os.remove(\"poly.fits\")\n",
    "else:\n",
    "    print(\"The poly.fits file does not exist\")"
   ]
  },
  {
   "cell_type": "code",
   "execution_count": null,
   "metadata": {},
   "outputs": [],
   "source": [
    "# Save if you so desire. Keep commented otherwise.\n",
    "#poly.write('poly.fits')"
   ]
  },
  {
   "cell_type": "code",
   "execution_count": null,
   "metadata": {},
   "outputs": [],
   "source": [
    "# Fit a local continuum between the flux densities at: 8.0 - 8.1 & 14.9 - 15.0 microns\n",
    "# (i.e. excluding the line itself)\n",
    "\n",
    "sw_region = 8.0   #lam0\n",
    "sw_line = 8.1     #lam1\n",
    "lw_line = 14.9    #lam2\n",
    "lw_region = 15.0  #lam3\n",
    "\n",
    "# Zoom in on the line complex & extract\n",
    "line_reg_10 = SpectralRegion([(sw_region*u.um, lw_region*u.um)])\n",
    "line_spec = extract_region(bbsub_spectra, line_reg_10)\n",
    "polysub = extract_region(poly, line_reg_10)\n",
    "line_y_continuum = polysub.flux\n",
    "\n",
    "#-----------------------------------------------------------------\n",
    "# Generate a continuum subtracted and continuum normalised spectra\n",
    "\n",
    "line_spec_norm   = Spectrum1D(spectral_axis = line_spec.spectral_axis, flux = line_spec.flux/line_y_continuum, uncertainty = StdDevUncertainty(np.zeros(len(line_spec.spectral_axis))))\n",
    "line_spec_consub = Spectrum1D(spectral_axis = line_spec.spectral_axis, flux = line_spec.flux - line_y_continuum, uncertainty = StdDevUncertainty(np.zeros(len(line_spec.spectral_axis))))\n",
    "\n",
    "#-----------------------------------------------------------------\n",
    "# Plot the dust feature & continuum fit to the region\n",
    "\n",
    "plt.figure(figsize = (8, 4))\n",
    "\n",
    "plt.plot(line_spec.spectral_axis, line_spec.flux.value,\n",
    "         label = 'Dust spectra 10 micron region')\n",
    "\n",
    "plt.plot(line_spec.spectral_axis, line_y_continuum, label = 'Local continuum')\n",
    "\n",
    "plt.xlabel('Wavelength (microns)')\n",
    "plt.ylabel(\"Flux ({:latex})\".format(spec.flux.unit))\n",
    "plt.title(\"10$\\mu$m feature plus local continuum\")\n",
    "plt.legend(frameon = False, fontsize = 'medium')\n",
    "plt.tight_layout()\n",
    "plt.show()\n",
    "plt.close()\n",
    "\n",
    "#-----------------------------------------------------------------\n",
    "# Plot the continuum subtracted 10 micron feature\n",
    "\n",
    "plt.figure(figsize = (8,4))\n",
    "\n",
    "plt.plot(line_spec.spectral_axis, line_spec_consub.flux, color='green',\n",
    "         label = 'continuum subtracted')\n",
    "\n",
    "plt.xlabel('Wavelength (microns)')\n",
    "plt.ylabel(\"Flux ({:latex})\".format(spec.flux.unit))\n",
    "plt.title(\"Continuum subtracted 10$\\mu$m feature\")\n",
    "plt.tight_layout()\n",
    "plt.show()\n",
    "plt.close()"
   ]
  },
  {
   "cell_type": "code",
   "execution_count": null,
   "metadata": {},
   "outputs": [],
   "source": [
    "#Load 10 um feature back into specviz and calculate the Line flux; Line Centroid; Equivalent width\n",
    "specviz = Specviz()\n",
    "specviz.app"
   ]
  },
  {
   "cell_type": "code",
   "execution_count": null,
   "metadata": {},
   "outputs": [],
   "source": [
    "specviz.load_spectrum(line_spec_consub,data_label='Continuum Subtraction')\n",
    "specviz.load_spectrum(line_spec_norm,data_label='Normalized')"
   ]
  },
  {
   "cell_type": "markdown",
   "metadata": {},
   "source": [
    "## Video7:\n",
    "    \n",
    "Here is a video that shows how to make line analysis measurements within specviz (i.e., line flux, line centroid, equivalent width)<br>\n",
    "Note: You want to calculate your equivalent width on the normalized spectrum<br>\n",
    "Note: You can also hack to convert the line flux value into more conventional units<br>"
   ]
  },
  {
   "cell_type": "code",
   "execution_count": null,
   "metadata": {},
   "outputs": [],
   "source": [
    "# Video showing how to measure lines within specviz\n",
    "HTML('<iframe width=\"700\" height=\"500\" src=\"https://data.science.stsci.edu/redirect/JWST/jwst-data_analysis_tools/MRS_Mstar_analysis/line_analysis_plugin.mov\" frameborder=\"0\" allowfullscreen></iframe>')"
   ]
  },
  {
   "cell_type": "code",
   "execution_count": null,
   "metadata": {},
   "outputs": [],
   "source": [
    "# Alternative method to analyze the 10um line within the notebook.\n",
    "# Calculate the Line flux; Line Centroid; Equivalent width\n",
    "\n",
    "line_centroid = centroid(line_spec_consub, SpectralRegion(sw_line*u.um, lw_line*u.um))\n",
    "line_flux_val = line_flux(line_spec_consub, SpectralRegion(sw_line*u.um, lw_line*u.um))\n",
    "\n",
    "equivalent_width_val = equivalent_width(line_spec_norm)\n",
    "\n",
    "# Hack to convert the line flux value into more conventional units\n",
    "# Necessary as spectra has mixed units: f_nu+lambda\n",
    "line_flux_val = (line_flux_val * u.micron).to(u.W * u.m**-2 * u.micron,\n",
    "                                              u.spectral_density(line_centroid)) / u.micron\n",
    "\n",
    "print(\"Line_centroid: {:.6} \".format(line_centroid))\n",
    "print(\"Integrated line_flux: {:.6} \".format(line_flux_val))\n",
    "print(\"Equivalent width: {:.6} \".format(equivalent_width_val))"
   ]
  },
  {
   "cell_type": "code",
   "execution_count": null,
   "metadata": {},
   "outputs": [],
   "source": [
    "# Compute the optical depth of the 10 micron feature\n",
    "\n",
    "tau = -(np.log(line_spec.flux.value / line_y_continuum.value))\n",
    "optdepth_spec = Spectrum1D(spectral_axis=line_spec.spectral_axis,\n",
    "                           flux=tau*(u.Jy/u.Jy))\n",
    "        "
   ]
  },
  {
   "cell_type": "code",
   "execution_count": null,
   "metadata": {},
   "outputs": [],
   "source": [
    "# Plot the optical depth of the 10 micron region vs wavelength\n",
    "plt.figure(figsize=(10,6))\n",
    "plt.plot(optdepth_spec.spectral_axis, optdepth_spec.flux)\n",
    "plt.xlabel(\"Wavelength ({:latex})\".format(spec.spectral_axis.unit))\n",
    "plt.ylabel('Tau') \n",
    "plt.tight_layout()\n",
    "plt.show()\n",
    "plt.close()"
   ]
  },
  {
   "cell_type": "markdown",
   "metadata": {},
   "source": [
    "**Note** At this point repeat *all* the steps above to isolate solid-state features e.g. for the forsterite feature at\n",
    "at approx 13.3 microns."
   ]
  },
  {
   "cell_type": "markdown",
   "metadata": {},
   "source": [
    "This is the end of the notebook that shows some basic analysis of a MIRI MRS spectrum using Cubeviz and Specviz.  Much more analysis is possible."
   ]
  },
  {
   "cell_type": "markdown",
   "metadata": {},
   "source": [
    "## Additional Resources\n",
    "\n",
    "- [PampelMuse](https://gitlab.gwdg.de/skamann/pampelmuse)\n",
    "- [CASA](https://casa.nrao.edu/Release3.4.0/docs/UserMan/UserManse41.html)"
   ]
  },
  {
   "cell_type": "markdown",
   "metadata": {
    "slideshow": {
     "slide_type": "slide"
    }
   },
   "source": [
    "## About this notebook\n",
    "**Author:** Olivia Jones, Project Scientist, UK ATC.<br>\n",
    "**Updated On:** 2020-08-11<br>\n",
    "**Updated On:** 2021-09-06 by B. Sargent, STScI Scientist, Space Telescope Science Institute (added MRS Simulated Data)<br>\n",
    "**Updated On:** 2021-12-12 by O. Fox, STScI Scientist (added blackbody and polynomial fitting within the notebook)<br>"
   ]
  },
  {
   "cell_type": "markdown",
   "metadata": {},
   "source": [
    "***"
   ]
  },
  {
   "cell_type": "markdown",
   "metadata": {},
   "source": [
    "[Top of Page](#top)"
   ]
  }
 ],
 "metadata": {
  "kernelspec": {
   "display_name": "Python 3 (ipykernel)",
   "language": "python",
   "name": "python3"
  },
  "language_info": {
   "codemirror_mode": {
    "name": "ipython",
    "version": 3
   },
   "file_extension": ".py",
   "mimetype": "text/x-python",
   "name": "python",
   "nbconvert_exporter": "python",
   "pygments_lexer": "ipython3",
   "version": "3.8.10"
  }
 },
 "nbformat": 4,
 "nbformat_minor": 4
}
