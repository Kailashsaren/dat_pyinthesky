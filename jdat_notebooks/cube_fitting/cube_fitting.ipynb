{
 "cells": [
  {
   "cell_type": "markdown",
   "metadata": {},
   "source": [
    "# Draft: Spectral Cube Fitting "
   ]
  },
  {
   "cell_type": "markdown",
   "metadata": {},
   "source": [
    "## Imports "
   ]
  },
  {
   "cell_type": "markdown",
   "metadata": {},
   "source": [
    "* _time_ for timing \n",
    "* _multiprocessing.Pool_ for parallel processing on cube spaxels\n",
    "* _pickle_ for pickling and unpickling IO to multiprocessing pools\n",
    "* _numpy_ for array processing and math\n",
    "* _matplotlib.pyplot_ for plotting images and spectra\n",
    "* _astropy.io_ for reading and writing FITS cubes and images\n",
    "* _astropy.visualization_ to construct RGB images\n",
    "* _lmfit_ Levenberg-Marquart fitting package for model-fitting\n"
   ]
  },
  {
   "cell_type": "code",
   "execution_count": null,
   "metadata": {
    "collapsed": false
   },
   "outputs": [],
   "source": [
    "import time\n",
    "import multiprocessing as mp\n",
    "from multiprocessing import Pool\n",
    "import pickle\n",
    "\n",
    "import numpy as np\n",
    "from numpy import exp, loadtxt, pi, sqrt, arange, interp\n",
    "\n",
    "import matplotlib.pyplot as plt\n",
    "from matplotlib.colors import LogNorm\n",
    "\n",
    "from astropy.io import fits \n",
    "from astropy.visualization import make_lupton_rgb\n",
    "from astropy import wcs\n",
    "from astropy.wcs import WCS\n",
    "import astropy.units as u\n",
    "from astropy.utils import data\n",
    "\n",
    "import lmfit\n",
    "from lmfit import Model, Minimizer, Parameters\n",
    "from lmfit.model import save_modelresult\n",
    "\n",
    "print('lmfit', lmfit.__version__)"
   ]
  },
  {
   "cell_type": "markdown",
   "metadata": {},
   "source": [
    "## Introduction\n",
    "Analysis of JWST spectral cubes requires extracting spatial-spectral features of interest and measuring their\n",
    "attributes. Here, we demonstrate 1-D spectral modeling applied to an individual spaxel, 900 spaxels in a cube, and spectra summed over spatial regions. Analysis of large JWST spectral data cubes can be computationally expensive, depending on number of spaxels modeled and number of free model parameters. This task can be made manageable by focusing on spatial sub-regions of interest or by minimizing model complexity.  Sub-regions in the cube are selected by location and line ratios. The spaxels in these regions are then summed and modeled with a combination of continuum, emission line, polycyclic aromatic hydrocarbon (PAH), and silicate dust features. Best-fitting model spectra are fit using the lmfit package, utilizing a Levenberg-Marquardt least-squares method. "
   ]
  },
  {
   "cell_type": "markdown",
   "metadata": {},
   "source": [
    "## Definitions of functions"
   ]
  },
  {
   "cell_type": "markdown",
   "metadata": {},
   "source": [
    "### Scrolling\n",
    "Limit scrolling in cell output."
   ]
  },
  {
   "cell_type": "code",
   "execution_count": null,
   "metadata": {
    "collapsed": false
   },
   "outputs": [],
   "source": [
    "%%javascript\n",
    "IPython.OutputArea.auto_scroll_threshold=70;"
   ]
  },
  {
   "cell_type": "markdown",
   "metadata": {},
   "source": [
    "### Fit and plot single 1D spectrum"
   ]
  },
  {
   "cell_type": "code",
   "execution_count": null,
   "metadata": {
    "collapsed": false
   },
   "outputs": [],
   "source": [
    "def fit_and_plot(spec,specerr,model,generic_pars,silicates=True):\n",
    "    \n",
    "    #Fitting\n",
    "    start_time = time.time()\n",
    "    result = model.fit(spec, generic_pars, weights=1./specerr, x=x)\n",
    "    print('Time count')\n",
    "    print(\"--- %s seconds ---\" % (time.time() - start_time))\n",
    "    print('Chi square red=',result.redchi)\n",
    "\n",
    "    #Model Results\n",
    "    fit_model = result.best_fit \n",
    "    fit_residual = spec - fit_model\n",
    "\n",
    "    #Evaluate model components\n",
    "    comps = result.eval_components()\n",
    "    plaw_model=comps['pwl_']\n",
    "    h2_model=x-x\n",
    "    h2comp=['h55_','h61_','h69_','h80_','h96_','h122_']\n",
    "    for comp in h2comp:\n",
    "        h2_model+=comps[comp]\n",
    "    ion_model=x-x\n",
    "    atomiclines=['ArII','SIV','NeII']\n",
    "    for comp in atomiclines:\n",
    "        ion_model+=comps[comp+'_']\n",
    "    pahs_model=fit_model-plaw_model-h2_model-ion_model\n",
    "    if silicates: \n",
    "        sidust_model=comps['sidust1_']\n",
    "        pahs_model=pahs_model-sidust_model\n",
    "        \n",
    "    #Plot results\n",
    "    fig1=plt.figure(figsize=(15, 6), dpi= 150)\n",
    "    frame1=fig1.add_axes((.1,.3,.8,.6))\n",
    "    plt.errorbar(x, spec, yerr=specerr,label='Data', color='k')\n",
    "    plt.plot(x, fit_model,label='Model',c='red')\n",
    "    if silicates: plt.plot(x,sidust_model,label='Si Dust', c='orange')\n",
    "    plt.plot(x, pahs_model,label='PAHs',c='magenta')\n",
    "    plt.plot(x, h2_model,label='H2',c='g')\n",
    "    plt.plot(x, ion_model,label='Ions',c='b')\n",
    "    plt.ylabel(r\"$Flux\\ (Jy)$\")\n",
    "    plt.grid(linestyle=':')\n",
    "    plt.legend()\n",
    "    frame1.set_xticklabels([])\n",
    "\n",
    "    frame2=fig1.add_axes((.1,.1,.8,.2))\n",
    "    plt.errorbar(x,fit_residual,yerr=specerr)\n",
    "    plt.plot(x, 0.*x, '-')\n",
    "    plt.xlabel(r\"$Wavelength\\ (\\mu m)$\")\n",
    "    plt.grid(linestyle=':')\n",
    "    plt.show()     \n",
    "    return result\n"
   ]
  },
  {
   "cell_type": "markdown",
   "metadata": {},
   "source": [
    "### Save emission map to fits"
   ]
  },
  {
   "cell_type": "code",
   "execution_count": null,
   "metadata": {
    "collapsed": true
   },
   "outputs": [],
   "source": [
    "def map2file(cube,map_array,filename):\n",
    "    \"\"\"Save a map array to FITS\"\"\"\n",
    "    aux=cube\n",
    "    aux[0].data = map_array\n",
    "    name=str(name)\n",
    "    aux.writeto(name)"
   ]
  },
  {
   "cell_type": "markdown",
   "metadata": {},
   "source": [
    "### Model Functions\n",
    "A variety of emission line, continuum and extinction models for spectral fitting."
   ]
  },
  {
   "cell_type": "code",
   "execution_count": null,
   "metadata": {
    "collapsed": false
   },
   "outputs": [],
   "source": [
    "def gaussian(x, amplitude, xcen, std):\n",
    "    \"\"\"1-d gaussian\"\"\"\n",
    "    return amplitude * exp(-(x-xcen)**2 / (2*std**2))                           #Amplitude unit\n",
    "\n",
    "def linear(x, slope, intercept):\n",
    "    \"\"\"a linear function\"\"\"\n",
    "    return slope*x + intercept\n",
    "\n",
    "def powerlaw(x, c1, c2):\n",
    "    \"\"\"power law function\"\"\"\n",
    "    return c1*(x**c2)\n",
    "\n",
    "def drude(x, peakx, frac_FWHM, amplitude):\n",
    "    \"\"\"dust emission\"\"\"\n",
    "    return ((amplitude*(frac_FWHM**2))/((x/peakx-peakx/x)**2+frac_FWHM**2))    #Amplitude unit\n",
    "\n",
    "def pahdust(x, Oneplusz, amplitude_76, amplitude_113):\n",
    "    \"\"\"PAH dust emission\"\"\"\n",
    "    \n",
    "    #Ionized PAH features\n",
    "    ionPAH_peakx=     [ 5.27, 5.70, 6.22, 6.69, 7.42, 7.60, 7.85, 8.33, 8.61]\n",
    "    ionPAH_frac_FWHM= [0.034,0.035, 0.030,0.07, 0.126,0.044,0.053,0.050, 0.039]\n",
    "    ionPAH_amplitude= [0.0,  0.0,   0.8,  0.0,  0.0,  1.0,  0.6,  0.0,   0.5]\n",
    "    \n",
    "    pahflux=x-x\n",
    "    for peakx, frac_FWHM, ampl in zip(ionPAH_peakx,ionPAH_frac_FWHM,ionPAH_amplitude):\n",
    "        peakx=peakx*Oneplusz\n",
    "        ampl=amplitude_76*(ampl/ionPAH_amplitude[5])\n",
    "        pahflux=pahflux+((ampl*(frac_FWHM**2))/((x/peakx-peakx/x)**2+frac_FWHM**2))\n",
    "\n",
    "    #Neutral PAH features\n",
    "    neutralPAH_peakx=     [10.68, 11.23,11.33]\n",
    "    neutralPAH_peakx+=    [11.99,12.62,12.69,13.48,14.04,14.19,15.90, 16.45,17.04,17.375,17.87,18.92]\n",
    "    neutralPAH_frac_FWHM= [0.020, 0.012,0.022]\n",
    "    neutralPAH_frac_FWHM+=[0.045,0.042, 0.013,0.040,0.016,0.025,0.020,0.014,0.065, 0.012, 0.016,0.019]   \n",
    "    neutralPAH_amplitude= [0.0,  0.6, 1.0]\n",
    "    neutralPAH_amplitude+=[0.2,  0.3,   0.1,  0.0,  0.1,  0.1,  0.0,   0.0,  0.0,  0.0,   0.0,  0.0]\n",
    "    \n",
    "    for peakx, frac_FWHM, ampl in zip(neutralPAH_peakx,neutralPAH_frac_FWHM,neutralPAH_amplitude):\n",
    "        peakx=peakx*Oneplusz\n",
    "        ampl=amplitude_113*(ampl/neutralPAH_amplitude[2])\n",
    "        pahflux=pahflux+((ampl*(frac_FWHM**2))/((x/peakx-peakx/x)**2+frac_FWHM**2))\n",
    "\n",
    "    return pahflux    #Amplitude unit\n",
    "\n",
    "def sidust(x, T, amplitude):\n",
    "    \"\"\"Silicate dust emission\"\"\"\n",
    "    \n",
    "    #pahfit_tau_agn -- Custom extinction curve built from weighted sum of two components: \n",
    "    #                  silicate profile (Drude functions), and an exponent 1.7 power-law.\n",
    "\n",
    "    d1=drude(x,10.0,0.25,0.80)\n",
    "    d2=drude(x,11.1,0.25,0.25)\n",
    "    #d3=drude(x,17.0,0.40,0.40)\n",
    "    ext=d1+d2  #+d3\n",
    "\n",
    "    # Form linear combination of modified silicate and powerlaw.\n",
    "    beta=0.1\n",
    "    ext=(1. - beta)*ext + beta*(9.7/x)**1.7\n",
    "    scale=1.0E-6\n",
    "    si_em=amplitude*1.0E-6*3.97289E13/x**3/(exp(1.4387752E4/x/T)-1.)*ext\n",
    "    \n",
    "    return si_em\n",
    "\n",
    "def blackbody(x, OnePlusZ, T, K):\n",
    "    \"\"\"black body function\"\"\"\n",
    "    h=6.626196*10**(-27) #erg*s\n",
    "    c=2.997924562*10**(10) #cm/s\n",
    "    k=1.38*10**(-16) #erg/K\n",
    "    Constant = 1.71828182846 / OnePlusZ\n",
    "    EnergyRatio = ((1./(k*T))*OnePlusZ*h*c*10000)/x\n",
    "    return Constant*K*(EnergyRatio**4)/(exp(EnergyRatio)-1.)                   #Jansky unit\n",
    "\n",
    "def extinctiongal(x, tau):\n",
    "    \"\"\"Galactic center extinction\"\"\"\n",
    "    ext=np.interp(x, wave, agal)      #Interpolate the data in x array\n",
    "    return exp(-tau*ext)\n",
    "\n",
    "def extinctionloc(x, tau):\n",
    "    \"\"\"Local ISM extinction\"\"\"\n",
    "    ext=np.interp(x, wave, alocal)    #Interpolate the data in x array\n",
    "    return exp(-tau*ext)\n",
    "\n",
    "#Read extinction data from Chiar & Tielens (2005)\n",
    "Boxdata=\"https://data.science.stsci.edu/redirect/JWST/jwst-data_analysis_tools/cube_fitting/\"\n",
    "wave, agal, alocal = np.loadtxt(Boxdata+'chiar+tielens_2005.dat', skiprows=14, usecols=(0, 1, 2), unpack=True)\n",
    "\n",
    "def gaussian_flux(x, ratio, xcen, std):\n",
    "    \"\"\"Same model of gaussian but with ratio\"\"\"\n",
    "    amp=gauss_flux2amp(ratio,std,xcen)\n",
    "    return gaussian(x, amp, xcen, std)\n",
    "\n",
    "def drude_flux(x, peakx, frac_FWHM, ratio):\n",
    "    \"\"\"Same model of drude but with ratio\"\"\"\n",
    "    amp=drude_flux2amp(ratio,frac_FWHM,peakx)\n",
    "    return drude(x, peakx, frac_FWHM, amp)\n",
    "\n",
    "def Modelcero(x):\n",
    "    \"\"\"Simple model of 0 to initialize some models\"\"\"\n",
    "    return 0*x\n",
    "\n",
    "def Modelconst(x,A):\n",
    "    \"\"\"Simple model of a constant\"\"\"\n",
    "    return (0*x)+A"
   ]
  },
  {
   "cell_type": "markdown",
   "metadata": {},
   "source": [
    "### Calculate Line Flux and Line Width\n",
    "Helper functions to calculate the fluxes and widths of emission features from model parameters."
   ]
  },
  {
   "cell_type": "code",
   "execution_count": null,
   "metadata": {
    "collapsed": true
   },
   "outputs": [],
   "source": [
    "def fwhm2std(fwhm):\n",
    "    \"\"\"from fwhm to standard deviation of a gaussian\"\"\"\n",
    "    return fwhm/2.355\n",
    "\n",
    "def gaussianline_flux(amp,std,cen):\n",
    "    \"\"\"calculate the integrate flux for a gaussian line\"\"\"\n",
    "    #Units= amp:Jy cen:microns\n",
    "    c= 29979.2458*10**10 #c in microns/s\n",
    "    gaussianfactor=sqrt(2*pi)\n",
    "    return amp*gaussianfactor*c*std/(cen**2)*10**(-23)      #erg s^{-1} cm^{-2}\n",
    "\n",
    "def drudeline_flux(amp,frac,peak):\n",
    "    \"\"\"calculate the integrate flux for a drude line\"\"\"\n",
    "    #Units= amp:Jy peak:microns\n",
    "    c= 29979.2458*10**10 #c in microns/s\n",
    "    drudefactor=pi\n",
    "    return (amp*frac*drudefactor*c/((2*peak)))*10**(-23)   #erg s^{-1} cm^{-2}\n",
    "\n",
    "def drude_flux2amp(flux,frac,peak):\n",
    "    \"\"\"calculate the amplitude from a flux for a drude line\"\"\"\n",
    "    c= 29979.2458*10**10 #c in microns/s\n",
    "    drudefactor=pi\n",
    "    amp=(flux*2*peak)/(frac*drudefactor*c*10**(-23))\n",
    "    return amp\n",
    "\n",
    "def gauss_flux2amp(flux,std,peak):\n",
    "    \"\"\"calculate the amplitude from a flux for a gauss line\"\"\"\n",
    "    c= 29979.2458*10**10 #c in microns/s\n",
    "    gaussianfactor=sqrt(2*pi)\n",
    "    amp=(flux*peak**2)/(gaussianfactor*c*std*10**(-23))\n",
    "    return amp"
   ]
  },
  {
   "cell_type": "markdown",
   "metadata": {},
   "source": [
    "## Model Parameters \n",
    "Declare the parameters of model functions. Parameters are frozen by setting vary='False'\n",
    "in the lmfit setpar command.  For now we are just fitting amplitudes of emission features.\n",
    "Fits with more variable parameters take longer."
   ]
  },
  {
   "cell_type": "code",
   "execution_count": null,
   "metadata": {
    "collapsed": true
   },
   "outputs": [],
   "source": [
    "def setpar(pars,name,value,vary,minus):\n",
    "    \"\"\"Set any parameter\"\"\"\n",
    "    pars[name].set(value,vary=vary,min=minus)\n",
    "    \n",
    "def extracpar(result,name):\n",
    "    value=result.params[name].value\n",
    "    return value\n",
    "\n",
    "def gaussian_defpar(name,amplitude,xcen,fwhm,pars):\n",
    "    \"\"\"set the parameters for a gaussian\"\"\"\n",
    "    std=fwhm2std(fwhm)\n",
    "    name=str(name)\n",
    "    xcen=xcen*OneZ\n",
    "    setpar(pars,name+'_std',std,False,None)\n",
    "    #setpar(pars,name+'_std',std,True,0)\n",
    "    setpar(pars,name+'_xcen',xcen,False,None)\n",
    "    setpar(pars,name+'_amplitude',amplitude,True,0)\n",
    "    return #pars[name+'_std'].set(std,vary=False),pars[name+'_xcen'].set(xcen,vary=False),pars[name+'_amplitude'].set(amplitude)\n",
    "\n",
    "def drude_defpar(name, peakx, frac_FWHM, amplitude, pars):\n",
    "    \"\"\"set the parameters for a drude\"\"\"\n",
    "    peakx=peakx*OneZ\n",
    "    setpar(pars,name+'_frac_FWHM',frac_FWHM,False,None)\n",
    "    #setpar(pars,name+'_frac_FWHM',frac_FWHM,True,0)\n",
    "    setpar(pars,name+'_peakx',peakx,False,None)\n",
    "    setpar(pars,name+'_amplitude',amplitude,True,0)    \n",
    "    return #pars[name+'_frac_FWHM'].set(frac_FWHM,vary=False),pars[name+'_peakx'].set(peakx,vary=False),pars[name+'_amplitude'].set(amplitude)\n",
    "\n",
    "def pahdust_defpar(name, Oneplusz, amplitude_76, amplitude_113, pars):\n",
    "    \"\"\"set the parameters for pdr dust\"\"\"\n",
    "    setpar(pars,name+'_amplitude_76',amplitude_76,True,0) \n",
    "    setpar(pars,name+'_amplitude_113',amplitude_113,True,0) \n",
    "    setpar(pars,name+'_Oneplusz',Oneplusz,False,None)\n",
    "    return #pars[name+'_frac_FWHM'].set(frac_FWHM,vary=False),pars[name+'_peakx'].set(peakx,vary=False),pars[name+'_amplitude'].set(amplitude)\n",
    "\n",
    "def sidust_defpar(name,T,amplitude,pars):\n",
    "    setpar(pars,name+'_amplitude',amplitude,True,0)\n",
    "    setpar(pars,name+'_T',T,False,0)\n",
    "    return\n",
    "\n",
    "def gaussian_extractpars(prefix,result):\n",
    "    \"\"\"extract the parameters for a gaussian\"\"\"\n",
    "    amp = result.params[prefix+'amplitude'].value\n",
    "    cen = result.params[prefix+'xcen'].value\n",
    "    std = result.params[prefix+'std'].value\n",
    "    return amp, cen, std\n",
    "\n",
    "def drude_extractpars(prefix,result):\n",
    "    \"\"\"extract the parameters for a drude\"\"\"\n",
    "    ampl = result.params[prefix+'amplitude'].value\n",
    "    peak = result.params[prefix+'peakx'].value         \n",
    "    frac = result.params[prefix+'frac_FWHM'].value\n",
    "    return ampl, peak, frac\n",
    "\n",
    "def pahdust_extractpars(prefix,result):\n",
    "    \"\"\"extract the parameters for pahdust model\"\"\"\n",
    "    ampl_76 = result.params[prefix+'amplitude_76'].value\n",
    "    ampl_113 = result.params[prefix+'amplitude_113'].value\n",
    "    return ampl_76, ampl_113  \n",
    "\n",
    "def sidust_extractpars(prefix,result):\n",
    "    \"\"\"extract the parameters for pahdust model\"\"\"\n",
    "    T = result.params[prefix+'T'].value\n",
    "    ampl = result.params[prefix+'amplitude'].value\n",
    "    \n",
    "    return T,ampl \n",
    "\n",
    "def wave2cubecoor(wave,xwanted):\n",
    "    \"\"\"from wavelenght to coordinate in the cube\"\"\"\n",
    "    count=0\n",
    "    for line in wave:\n",
    "        line=float(line)\n",
    "        if abs(line-xwanted)<=0.001:\n",
    "            coowanted=count\n",
    "        else:\n",
    "            count=count+1\n",
    "    return coowanted\n",
    "\n",
    "def map2file(cube,map_array,filename):\n",
    "    \"\"\"Save a map array to FITS\"\"\"\n",
    "    aux=cube\n",
    "    aux[0].data = map_array\n",
    "    name=str(filename)\n",
    "    aux.writeto(name)"
   ]
  },
  {
   "cell_type": "markdown",
   "metadata": {},
   "source": [
    "## Input data\n",
    "With the present lack of JWST flight data, we utilize the SL1 and SL2 spectral cubes generated\n",
    "using CUBISM, from Spitzer IRS spectral mapping observations of the center of nearby\n",
    "galaxy Messier 58. This galaxy has a radio-loud Seyfert nucleus that is exciting strong\n",
    "H2 emission via shocks.  There is also significant star-formation, revealed by PAH emission\n",
    "features."
   ]
  },
  {
   "cell_type": "code",
   "execution_count": null,
   "metadata": {
    "collapsed": false
   },
   "outputs": [],
   "source": [
    "#Target \n",
    "targname='M58'\n",
    "\n",
    "#Redshift\n",
    "z=0.005060\n",
    "OneZ=1.+z\n",
    "\n",
    "#Download and open the data cubes and their uncertainties\n",
    "BoxPath=\"https://data.science.stsci.edu/redirect/JWST/jwst-data_analysis_tools/cube_fitting/\"\n",
    "\n",
    "cubeSL1 = fits.open(BoxPath+targname+'_SL1_cube.fits') \n",
    "errorsSL1 = fits.open(BoxPath+targname+'_SL1_cube_unc.fits')\n",
    "cubeSL2 = fits.open(BoxPath+targname+'_SL2_cube.fits') \n",
    "errorsSL2 = fits.open(BoxPath+targname+'_SL2_cube_unc.fits')\n",
    "\n",
    "#Cube Info\n",
    "cubeSL1.info()\n",
    "cubeSL2.info()\n",
    "\n",
    "#Headers\n",
    "hdr1 = cubeSL1[0].header                        \n",
    "er_hdr1=errorsSL1[0].header\n",
    "hdr2 = cubeSL2[0].header                               \n",
    "er_hdr2=errorsSL2[0].header\n",
    "#print(repr(hdr1))\n",
    "\n",
    "#Data\n",
    "data_cube1=[]\n",
    "error_cube1=[]\n",
    "wave1=[]\n",
    "data_cube2=[]\n",
    "error_cube2=[]\n",
    "wave2=[]\n",
    "data_cube1 = cubeSL1[0].data\n",
    "error_cube1 = errorsSL1[0].data\n",
    "data_cube2 = cubeSL2[0].data\n",
    "error_cube2 = errorsSL2[0].data\n",
    "\n",
    "#Wavelength\n",
    "xwave1 = cubeSL1[1].data\n",
    "xwave1 = xwave1.field(0)[0]\n",
    "xwave2 = cubeSL2[1].data\n",
    "xwave2 = xwave2.field(0)[0]\n",
    "x=[]\n",
    "for line in xwave2:\n",
    "    x.append(float(line))\n",
    "for line in xwave1:\n",
    "    x.append(float(line))\n",
    "x=np.array(x)\n",
    "\n",
    "#Change the units from MJy/sr to Jy/pix\n",
    "correct_unit1=abs(hdr1['CDELT1'])*abs(hdr1['CDELT2'])*0.0003046118*(10**6)    \n",
    "data_cube1=data_cube1*correct_unit1\n",
    "error_cube1=error_cube1*correct_unit1\n",
    "correct_unit2=abs(hdr2['CDELT1'])*abs(hdr2['CDELT2'])*0.0003046118*(10**6)    \n",
    "data_cube2=data_cube2*correct_unit2\n",
    "error_cube2=error_cube2*correct_unit2\n",
    "\n",
    "#Concatenate SL1 and SL2\n",
    "data_cube=np.concatenate((data_cube2,data_cube1),axis=0)\n",
    "error_cube=np.concatenate((error_cube2,error_cube1),axis=0)\n",
    "\n",
    "#Reorder x and data_cube\n",
    "xcor = x.argsort()\n",
    "data_cube = data_cube[xcor]\n",
    "error_cube = error_cube[xcor]\n",
    "x=np.sort(x)\n",
    "\n",
    "#Cube dimensions and trimming \n",
    "xsize, ysize, zsize = data_cube.shape\n",
    "ytrim=0; ysize=ysize-ytrim\n",
    "ztrim=3; zsize=zsize-ztrim\n",
    "print('Trimmed cube dimensions:', xsize, ysize, zsize)\n",
    "\n",
    "#Test output\n",
    "#map2file(cubeSL2,data_cube,'test2.fits')\n"
   ]
  },
  {
   "cell_type": "markdown",
   "metadata": {},
   "source": [
    "## Model Parameter Starting Values\n",
    "Set starting parameters for spectral model components. Use a PAH dust model with only two free parameters (7.6 and 11.3 micron PAH flux).  The rest of the PAH ratios are fixed by this 'pahdust' model, so that fitting the whole cube does not take so long.   Later, we will fit summed region spectra with all PAH amplitudes free."
   ]
  },
  {
   "cell_type": "code",
   "execution_count": null,
   "metadata": {
    "collapsed": false
   },
   "outputs": [],
   "source": [
    "#Power Law\n",
    "p_law = Model(powerlaw,prefix='pwl_')\n",
    "generic_pars = p_law.make_params()      \n",
    "setpar(generic_pars,'pwl_c1',0.0002,True,None)\n",
    "setpar(generic_pars,'pwl_c2',0.0015,True,None)\n",
    "\n",
    "#PAH dust model with fixed PAH feature ratios\n",
    "prefix='pahdust1_'\n",
    "pahs = Model(pahdust,prefix=prefix)\n",
    "generic_pars.update(pahs.make_params())\n",
    "#print(generic_pars)\n",
    "pahdust_defpar('pahdust1',1.00506,0.003,0.005,generic_pars)\n",
    "\n",
    "#Silicate dust emission\n",
    "prefix='sidust1_'\n",
    "silicate= Model(sidust,prefix=prefix)\n",
    "generic_pars.update(silicate.make_params())\n",
    "sidust_defpar('sidust1', 190.,1.E-4,generic_pars)\n",
    "\n",
    "#Gaussians with FWHM and X central from Smith et al 2007\n",
    "#H2 molecular\n",
    "h2lines=['55','61','69','80','96','122']\n",
    "gaussH2=Model(Modelcero)\n",
    "for line in h2lines:\n",
    "    prefix='h'+line+'_'\n",
    "    gaussH2+=Model(gaussian,prefix=prefix)\n",
    "generic_pars.update(gaussH2.make_params())\n",
    "gaussian_defpar('h55',0.05, 5.511, 0.053,generic_pars)\n",
    "gaussian_defpar('h61',0.05, 6.109, 0.053,generic_pars)\n",
    "gaussian_defpar('h69',0.05, 6.909, 0.053,generic_pars)\n",
    "gaussian_defpar('h80',0.05, 8.026, 0.100,generic_pars)\n",
    "gaussian_defpar('h96',0.05, 9.665, 0.100,generic_pars)\n",
    "gaussian_defpar('h122',0.05, 12.278, 0.100,generic_pars)\n",
    "\n",
    "#Atomic lines\n",
    "atomiclines=['ArII','SIV','NeII']\n",
    "gaussAt=Model(Modelcero)\n",
    "for line in atomiclines:\n",
    "    prefix = line+'_'\n",
    "    gaussAt+=Model(gaussian,prefix=prefix)\n",
    "generic_pars.update(gaussAt.make_params())\n",
    "gaussian_defpar('ArII',0.05, 6.985, 0.053,generic_pars)\n",
    "gaussian_defpar('SIV',0.05, 10.511, 0.100,generic_pars)\n",
    "gaussian_defpar('NeII',0.05, 12.813, 0.100,generic_pars)"
   ]
  },
  {
   "cell_type": "markdown",
   "metadata": {},
   "source": [
    "## Fit a Representative Spaxel\n",
    "Fit a single spaxel in the cube and use the fit parameters to adjust the generic model starting parameters."
   ]
  },
  {
   "cell_type": "code",
   "execution_count": null,
   "metadata": {
    "collapsed": false
   },
   "outputs": [],
   "source": [
    "#Select spaxel\n",
    "spec=data_cube[:,8,16]\n",
    "specerr=error_cube[:,8,16]\n",
    "\n",
    "#Composite model (powerlaw + PAHs + H2 + Atomic lines, no extinction)\n",
    "generic_mod = p_law + silicate + pahs + gaussH2  + gaussAt\n",
    "\n",
    "print(generic_mod.param_names)\n",
    "\n",
    "#Fit and plot\n",
    "spax_result=fit_and_plot(spec,specerr,generic_mod,generic_pars,False)\n",
    "\n",
    "#Save results\n",
    "save_modelresult(spax_result, 'OnePointResult.sav')\n",
    "\n",
    "#Update generic model starting parameters\n",
    "for par in spax_result.params:\n",
    "    value=spax_result.params[par].value\n",
    "    vary=spax_result.params[par].vary\n",
    "    minus=spax_result.params[par].min\n",
    "    if minus==float(\"-inf\"):\n",
    "        minus=None\n",
    "    generic_pars[par].set(value,vary=vary,min=minus)\n",
    "    "
   ]
  },
  {
   "cell_type": "markdown",
   "metadata": {},
   "source": [
    "Plot of observed flux density (black), model fit (red), and residuals (bottom panel).  This spaxel has strong H2 emission at 9.6 microns and 8 micron PAH and [Ne II] 12.8 micron emission from star-forming regions."
   ]
  },
  {
   "cell_type": "markdown",
   "metadata": {},
   "source": [
    "## Fit the Entire Cube\n",
    "Identify NaNs, then create list of models (based on generic model), one entry per NaN-free spaxel. Next launch the multiprocessing Pool, limited to number of available cores minus one. Fitting the entire cube (900 spaxels) takes about 2 minutes to fit with 7 processes running in parallel."
   ]
  },
  {
   "cell_type": "code",
   "execution_count": null,
   "metadata": {
    "collapsed": false,
    "scrolled": true
   },
   "outputs": [],
   "source": [
    "cube_res = mp.Manager().dict()\n",
    "\n",
    "#The fit method is redefined as a top-level function to make it pickle-able for multiprocessing.Pool\n",
    "def modfit(spaxel, generic_pars, weights, x):\n",
    "        modf=generic_mod.fit(spaxel, generic_pars, weights=1./spaxerr, x=x)\n",
    "        return modf.dumps()\n",
    "\n",
    "#Helper to either assign a NaN result or fit a single non-NaN spaxel\n",
    "def fit_point(args):\n",
    "        a,b,spaxel,spaxerr,x,generic_pars,nancheck = args\n",
    "        print(a, b, len(spaxel), mp.current_process().name)\n",
    "        if nancheck == False:\n",
    "            res_point=modfit(spaxel, generic_pars, weights=1./spaxerr, x=x)\n",
    "\n",
    "            cube_res[(a,b)] = res_point \n",
    "        elif nancheck == True:\n",
    "            cube_res[(a,b)] = float('nan')\n",
    "        return \n",
    "\n",
    "#Extraction region dimensions (trimmed cube)\n",
    "astart=0; aend=ysize\n",
    "bstart=0; bend=zsize\n",
    "\n",
    "#Check for NaNs, select data, and set model start parameters for each spaxel\n",
    "pooldata=[]\n",
    "for a in np.arange(astart,aend):\n",
    "    for b in np.arange(bstart,bend):        \n",
    "        nancheck = False\n",
    "        for point in data_cube[:,a,b]:\n",
    "            if np.isnan(point) == True or point == 0:\n",
    "                nancheck = True\n",
    "        \n",
    "        #Copy spaxel data vectors\n",
    "        spaxel = 1.0*np.array(data_cube[:,a,b])\n",
    "        spaxerr= 1.0*np.array(error_cube[:,a,b])\n",
    "        wavelen= 1.0*np.array(x)\n",
    "        \n",
    "        pooldata.append([a,b,spaxel,spaxerr,wavelen,generic_pars,nancheck])\n",
    "\n",
    "\n",
    "#Launch Multiprocessing Pool\n",
    "start_time = time.time()\n",
    "if __name__ == '__main__':\n",
    "    with Pool(mp.cpu_count() - 1) as pool:\n",
    "        pool.map(fit_point,pooldata)    \n",
    "\n",
    "print('Time count')\n",
    "print(\"--- %s seconds ---\" % (time.time() - start_time))\n",
    "\n",
    "#Save model fit\n",
    "with open('MPF_cube_result_model.sav', 'wb') as fp:\n",
    "    pickle.dump(cube_res.items(), fp)\n",
    "\n",
    "#Load model fit to full cube\n",
    "cube_res = mp.Manager().dict()\n",
    "with open ('MPF_cube_result_model.sav', 'rb') as fp:\n",
    "        restore_cube = pickle.load(fp)\n",
    "for line in restore_cube:\n",
    "    pos=line[0]\n",
    "    cube_res[pos] = line[1]"
   ]
  },
  {
   "cell_type": "markdown",
   "metadata": {},
   "source": [
    "### Total flux and Reduced Chi^2 Maps\n",
    "Display total flux image (observed flux cube collapsed along wavelength direction) and reduced Chi^2 image for model fit in square sub-region."
   ]
  },
  {
   "cell_type": "code",
   "execution_count": null,
   "metadata": {
    "collapsed": false
   },
   "outputs": [],
   "source": [
    "#Sum observed flux in each spaxel\n",
    "cube_tflux=np.sum(data_cube,axis=0)[0:ysize,0:zsize]\n",
    "\n",
    "#Sum model flux in each spaxel\n",
    "tcube_chi=np.zeros((ysize, zsize))\n",
    "tcube_modflux=np.zeros((ysize, zsize))\n",
    "funcdefs = {}\n",
    "#modres = lmfit.model.ModelResult(lmfit.Model(gaussian), lmfit.Parameters())\n",
    "modres=spax_result\n",
    "for pos, dumpval in cube_res.items():\n",
    "    #for pos, dumpval in cube_res:\n",
    "    if str(cube_res[pos])=='nan':\n",
    "        tcube_modflux[pos]=np.float('nan')\n",
    "        tcube_chi[pos]=np.float('nan')\n",
    "    else:\n",
    "        result = modres.loads(dumpval, funcdefs=funcdefs)\n",
    "        tcube_modflux[pos]=np.sum(result.best_fit)\n",
    "        tcube_chi[pos]=result.redchi\n",
    "\n",
    "f,(ax1,ax2,ax3)=plt.subplots(1,3, figsize=(10,15))\n",
    "ax1.set_title('log Observed Flux')\n",
    "ax1.imshow(cube_tflux, origin='lower', cmap='gray', norm=LogNorm())\n",
    "ax2.set_title('log Model Flux')\n",
    "ax2.imshow(tcube_modflux, origin='lower', cmap='gray', norm=LogNorm())\n",
    "ax3.set_title('Reduced Chi Square')\n",
    "ax3.imshow(cube_tflux-tcube_modflux, origin='lower', cmap='hot')\n",
    "#ax3.colorbar()\n",
    "plt.show()"
   ]
  },
  {
   "cell_type": "markdown",
   "metadata": {},
   "source": [
    "Collapsed cube maps, showing observed flux, model flux, and Chi^2/DF.  White regions with NaNs in the input data cube also have NaNs in the output model cube along the left and top edges and in column 26.  Residuals in the nucleus may either be the result of inadequate PSF sampling or mis-fit AGN model."
   ]
  },
  {
   "cell_type": "markdown",
   "metadata": {},
   "source": [
    "### Line maps\n",
    "Create H2 9.6 micron, [Ne II] 12.8 micron, PAH 7.6, and PAH 11.3 micron line maps for 3-color image."
   ]
  },
  {
   "cell_type": "code",
   "execution_count": null,
   "metadata": {
    "collapsed": false
   },
   "outputs": [],
   "source": [
    "h2cube_flux=np.zeros((35, 35))\n",
    "necube_flux=np.zeros((35, 35))\n",
    "pahcube_ion_flux=np.zeros((35, 35))\n",
    "pahcube_neutral_flux=np.zeros((35, 35))\n",
    "\n",
    "line='96'\n",
    "i=0\n",
    "for pos, dumpval in cube_res.items():\n",
    "    if str(cube_res[pos])=='nan':\n",
    "        h2cube_flux[pos]=float('nan')\n",
    "    else:\n",
    "        lflux=0.\n",
    "        result = modres.loads(dumpval, funcdefs=funcdefs)\n",
    "        prefix = 'h'+line+'_'\n",
    "        amp, cen, std = gaussian_extractpars(prefix,result)               \n",
    "        lflux= gaussianline_flux(amp,std,cen)                      \n",
    "        h2cube_flux[pos]=lflux\n",
    "\n",
    "line='NeII'\n",
    "for pos, dumpval in cube_res.items():\n",
    "    if str(cube_res[pos])=='nan':\n",
    "        necube_flux[pos]=0.0\n",
    "    else:\n",
    "        result = modres.loads(dumpval, funcdefs=funcdefs)\n",
    "        prefix = line+'_'\n",
    "        amp, cen, std = gaussian_extractpars(prefix,result)               \n",
    "        lflux= gaussianline_flux(amp,std,cen)                      \n",
    "        necube_flux[pos]=lflux\n",
    "\n",
    "line='pahdust1'\n",
    "for pos, dumpval in cube_res.items():\n",
    "    if str(cube_res[pos])=='nan':\n",
    "        pahcube_ion_flux[pos]=float('nan')\n",
    "        pahcube_neutral_flux[pos]=float('nan')\n",
    "    else:\n",
    "        result = modres.loads(dumpval, funcdefs=funcdefs)\n",
    "        prefix = line+'_'\n",
    "        ampl_76, ampl_113 = pahdust_extractpars(prefix,result)  \n",
    "        pah_76_flux = drudeline_flux(ampl_76,0.044,7.60)\n",
    "        pah_113_flux = drudeline_flux(ampl_113,0.032,11.33)                      \n",
    "        pahcube_ion_flux[pos]=pah_76_flux\n",
    "        pahcube_neutral_flux[pos]=pah_113_flux\n",
    "        \n",
    "f,(ax1,ax2,ax3,ax4)=plt.subplots(1,4, figsize=(10,15))\n",
    "\n",
    "ax1.set_title('[Ne II] 12.8 um')\n",
    "ax1.imshow(necube_flux, origin='lower')\n",
    "ax2.set_title('H2 9.6 um')\n",
    "ax2.imshow(h2cube_flux, origin='lower')\n",
    "ax3.set_title('PAH 7.6 um')\n",
    "ax3.imshow(pahcube_ion_flux, origin='lower')\n",
    "ax4.set_title('PAH 11.3 um')\n",
    "ax4.imshow(pahcube_neutral_flux, origin='lower')\n",
    "           \n",
    "plt.show()"
   ]
  },
  {
   "cell_type": "markdown",
   "metadata": {},
   "source": [
    "### RGB line and PAH feature flux maps."
   ]
  },
  {
   "cell_type": "code",
   "execution_count": null,
   "metadata": {
    "collapsed": false
   },
   "outputs": [],
   "source": [
    "#Make RGB images\n",
    "m58_neii_pah0_h2 = make_lupton_rgb(2.5*necube_flux, h2cube_flux, pahcube_neutral_flux, minimum=0, Q=5, stretch=0.000000000000004, filename=\"m58_NeII_H96_PAH113.png\")\n",
    "m58_pah_h2 = make_lupton_rgb(pahcube_neutral_flux, h2cube_flux, 1.2*pahcube_ion_flux, minimum=0, Q=5, stretch=0.000000000000005, filename=\"m58_PAH113_H96_PAH76.png\")\n",
    "\n",
    "#Two-panel figure\n",
    "f,(ax1,ax2)=plt.subplots(1,2, figsize=(10,15))\n",
    "ax1.axis('off')\n",
    "ax1.imshow(m58_neii_pah0_h2,origin='lower')\n",
    "ax2.axis('off')\n",
    "ax2.imshow(m58_pah_h2,origin='lower')\n",
    "plt.show()"
   ]
  },
  {
   "cell_type": "markdown",
   "metadata": {},
   "source": [
    "3-color RGB images. Left: r = [Ne II] 12.8 micron, g = H2 S(3) 9.6 micron, b = PAH 11.3 micron. Ionized atomic gas in the active galactic nucleus shows up as red, shocked regions are green, and dust emission is blue. Right: r = PAH 11.3 micron, g = H2 S(3) 9.6 micron, b = PAH 7.6 micron. Neutral PAH emission shows up as red, ionized PAH emission from PDRs in star-forming regions is blue, and shocked regions are green. "
   ]
  },
  {
   "cell_type": "markdown",
   "metadata": {},
   "source": [
    "## Extract and model cube sub-regions \n",
    "### Make spectral region masks \n",
    "Define spectral extraction regions based on spatial location, line flux, and line or feature ratios."
   ]
  },
  {
   "cell_type": "code",
   "execution_count": null,
   "metadata": {
    "collapsed": false
   },
   "outputs": [],
   "source": [
    "#Nucleus extraction region, defined by 5x5 square\n",
    "nuc_mask=np.zeros((35, 35))\n",
    "for a in arange(-2,3):\n",
    "    for b in arange(-2,3):\n",
    "        nuc_mask[14-a,17-b]=int(1)\n",
    "\n",
    "#Spiral arm extraction region\n",
    "arm_mask=np.where(((pahcube_neutral_flux>=0.155e-14) &((pahcube_ion_flux/pahcube_neutral_flux)>0.8) & (nuc_mask==0)),1,0)\n",
    "\n",
    "#Inner disk extraction region        \n",
    "pah_mask=np.where(((pahcube_neutral_flux>=0.155e-14) & (h2cube_flux<1e-15) & (nuc_mask==0)),1,0) - arm_mask\n",
    "pah_mask[:,0:3]=int(0)  #Trim edges of cube\n",
    "pah_mask[28:,:]=int(0)\n",
    "\n",
    "#Regions of strongest H2 emission\n",
    "h2s_mask=np.where(((h2cube_flux>=1e-15)&((h2cube_flux/pahcube_neutral_flux)>0.7) & (nuc_mask==0)),1,0)\n",
    "\n",
    "#H2 extraction region\n",
    "h2_mask=np.where(((h2cube_flux>=1e-15) & (nuc_mask==0)),1,0)-h2s_mask\n",
    "\n",
    "#M58 combined central regions mask (excluding spiral arm)\n",
    "m58_mask=nuc_mask + h2_mask*2 + h2s_mask*3 + pah_mask*4 +arm_mask*5\n",
    "\n",
    "f,((ax1,ax2,ax3,ax4,ax5,ax6))=plt.subplots(1,6,figsize=(15,10))\n",
    "\n",
    "ax1.set_title('Nucleus')\n",
    "ax1.imshow(nuc_mask,origin='lower')\n",
    "ax2.set_title('Spiral Arm')\n",
    "ax2.imshow(arm_mask,origin='lower')\n",
    "ax3.set_title('Inner Disk')\n",
    "ax3.imshow(pah_mask,origin='lower')\n",
    "ax4.set_title('H2')\n",
    "ax4.imshow(h2_mask,origin='lower')\n",
    "ax5.set_title('H2-strongest')\n",
    "ax5.imshow(h2s_mask,origin='lower')\n",
    "ax6.set_title('All regions')\n",
    "ax6.imshow(m58_mask,origin='lower')\n",
    "\n",
    "plt.show()"
   ]
  },
  {
   "cell_type": "markdown",
   "metadata": {},
   "source": [
    "Extraction region masks based on spatial and emission line or PAH feature strengths."
   ]
  },
  {
   "cell_type": "markdown",
   "metadata": {},
   "source": [
    "### Extract spectra from mask regions"
   ]
  },
  {
   "cell_type": "markdown",
   "metadata": {},
   "source": [
    "Spectra summed over five different regions: Spiral Arm, Nucleus, PAH, H2, and Strongest H2"
   ]
  },
  {
   "cell_type": "code",
   "execution_count": null,
   "metadata": {
    "collapsed": false
   },
   "outputs": [],
   "source": [
    "def extract_spec(a,b):\n",
    "    \"\"\"extract spec and errors from a,b coordinates\"\"\"\n",
    "    spec_pix=data_cube[:,a,b]\n",
    "    err_pix=error_cube[:,a,b]\n",
    "    return spec_pix, err_pix\n",
    "\n",
    "nuc_spec=np.zeros(xsize,)\n",
    "nuc_err=np.zeros(xsize,)\n",
    "pah_spec=np.zeros(xsize,)\n",
    "pah_err=np.zeros(xsize,)\n",
    "h2_spec=np.zeros(xsize,)\n",
    "h2_err=np.zeros(xsize,)\n",
    "arm_spec=np.zeros(xsize,)\n",
    "arm_err=np.zeros(xsize,)\n",
    "h2s_spec=np.zeros(xsize,)\n",
    "h2s_err=np.zeros(xsize,)\n",
    "for a in arange(0,ysize):\n",
    "    for b in arange(0,zsize):\n",
    "        if nuc_mask[a,b]==1:\n",
    "            spec_pix,err_pix=extract_spec(a,b)\n",
    "            nuc_spec=nuc_spec+spec_pix\n",
    "            nuc_err=nuc_err+err_pix**2\n",
    "        if pah_mask[a,b]==1:\n",
    "            spec_pix,err_pix=extract_spec(a,b)\n",
    "            pah_spec=pah_spec+spec_pix\n",
    "            pah_err=pah_err+err_pix**2\n",
    "        if h2_mask[a,b]==1:\n",
    "            spec_pix,err_pix=extract_spec(a,b)\n",
    "            h2_spec=h2_spec+spec_pix\n",
    "            h2_err=h2_err+err_pix**2\n",
    "        if arm_mask[a,b]==1:\n",
    "            spec_pix,err_pix=extract_spec(a,b)\n",
    "            arm_spec=arm_spec+spec_pix\n",
    "            arm_err=arm_err+err_pix**2\n",
    "        if h2s_mask[a,b]==1:\n",
    "            spec_pix,err_pix=extract_spec(a,b)\n",
    "            h2s_spec=h2s_spec+spec_pix\n",
    "            h2s_err=h2s_err+err_pix**2\n",
    "\n",
    "nuc_err=sqrt(nuc_err)\n",
    "pah_err=sqrt(pah_err)\n",
    "h2_err=sqrt(h2_err)\n",
    "arm_err=sqrt(arm_err)\n",
    "h2s_err=sqrt(h2s_err)\n",
    "f,((ax1,ax2,ax3),(ax4,ax5,ax6))=plt.subplots(2,3,figsize=(15,10))\n",
    "\n",
    "ax1.set_title('Spiral Arm')\n",
    "ax1.errorbar(x,arm_spec,yerr=arm_err, c='gold')\n",
    "ax1.set_ylabel('Flux (Jy)')\n",
    "\n",
    "ax2.set_title('Nucleus')\n",
    "ax2.errorbar(x,nuc_spec,yerr=nuc_err, c='navy')\n",
    "\n",
    "ax3.set_title('Inner Disk')\n",
    "ax3.errorbar(x,pah_spec,yerr=pah_err, c='limegreen')\n",
    "\n",
    "ax4.set_title('H2')\n",
    "ax4.errorbar(x,h2_spec,yerr=h2_err, c='steelblue')\n",
    "ax4.set_xlabel(r\"Wavelength $(\\mu m)$\")\n",
    "ax4.set_ylabel('Flux (Jy)')\n",
    "\n",
    "ax5.set_title('All regions')\n",
    "ax5.imshow(m58_mask,origin='lower')\n",
    "ax5.set_xlabel('Pixel')\n",
    "\n",
    "ax6.set_title('H2-Strongest')\n",
    "ax6.errorbar(x,h2s_spec,yerr=h2s_err,c='teal')\n",
    "ax6.set_xlabel(r\"Wavelength $(\\mu m)$\")\n",
    "plt.show()\n",
    "\n"
   ]
  },
  {
   "cell_type": "markdown",
   "metadata": {},
   "source": [
    "### Save spectra to files"
   ]
  },
  {
   "cell_type": "code",
   "execution_count": null,
   "metadata": {
    "collapsed": false
   },
   "outputs": [],
   "source": [
    "#Save spec regions\n",
    "\n",
    "np.savetxt(targname+'_spec_nuc.dat', np.column_stack((x, nuc_spec, nuc_err)),header='Wavelength[microns]     Flux_Nucleus[Jy]      Err_Flux_Nucleus')\n",
    "np.savetxt(targname+'_spec_h2.dat', np.column_stack((x, h2_spec, h2_err)), header='Wavelength[microns]     Flux_H2[Jy]      Err_H2')\n",
    "np.savetxt(targname+'_spec_h2s.dat', np.column_stack((x, h2_spec, h2_err)), header='Wavelength[microns]     Flux_H2s[Jy]      Err_H2s')\n",
    "np.savetxt(targname+'_spec_pah.dat', np.column_stack((x, pah_spec, pah_err)), header='Wavelength[microns]     Flux_PAH[Jy]      Err_PAH')\n",
    "np.savetxt(targname+'_spec_arm.dat', np.column_stack((x, arm_spec, arm_err)), header='Wavelength[microns]     Flux_Arm[Jy]      Err_Arm')\n",
    "\n"
   ]
  },
  {
   "cell_type": "markdown",
   "metadata": {},
   "source": [
    "### Fit spectra of regions"
   ]
  },
  {
   "cell_type": "markdown",
   "metadata": {},
   "source": [
    "#### Generic model components\n",
    "Model 14 individual PAH components with all amplitudes free. It would be computationally expensive to do this\n",
    "for the full cube, but only takes a couple of seconds for the summed region spectra."
   ]
  },
  {
   "cell_type": "code",
   "execution_count": null,
   "metadata": {
    "collapsed": false
   },
   "outputs": [],
   "source": [
    "#Power Law\n",
    "p_law = Model(powerlaw,prefix='pwl_')\n",
    "generic_pars = p_law.make_params()      #Generate the parameters\n",
    "setpar(generic_pars,'pwl_c1',0.005,True,None)\n",
    "setpar(generic_pars,'pwl_c2',0.0015,True,None)\n",
    "\n",
    "#Individual PAHs\n",
    "drudes=Model(Modelcero)\n",
    "allpahlines=['52','62','74','76','78','83','86','112','113','119','126','134','140','141'] \n",
    "for line in allpahlines:\n",
    "    prefix='PAH'+line+'_'  \n",
    "    drudes+=Model(drude,prefix=prefix)  \n",
    "generic_pars.update(drudes.make_params())\n",
    "\n",
    "drude_defpar('PAH52', 5.27, 0.034, 0.05,generic_pars)\n",
    "drude_defpar('PAH62', 6.22, 0.030, 0.05,generic_pars)\n",
    "drude_defpar('PAH74', 7.42, 0.126, 0.05,generic_pars)\n",
    "drude_defpar('PAH76', 7.60, 0.044, 0.05,generic_pars)\n",
    "drude_defpar('PAH78', 7.85, 0.053, 0.5,generic_pars)\n",
    "drude_defpar('PAH83', 8.33, 0.05, 0.5,generic_pars)\n",
    "drude_defpar('PAH86', 8.61, 0.039, 0.5,generic_pars)\n",
    "drude_defpar('PAH112', 11.23, 0.012, 0.5,generic_pars)\n",
    "drude_defpar('PAH113', 11.33, 0.032, 0.5,generic_pars)\n",
    "drude_defpar('PAH119', 11.99, 0.045, 0.5,generic_pars)\n",
    "drude_defpar('PAH126', 12.62, 0.042, 0.5,generic_pars)\n",
    "drude_defpar('PAH134', 13.48, 0.04, 0.5,generic_pars)\n",
    "drude_defpar('PAH140', 14.04, 0.016, 0.5,generic_pars)\n",
    "drude_defpar('PAH141', 14.19, 0.025, 0.5,generic_pars)\n",
    "\n",
    "#Silicate dust emission\n",
    "prefix='sidust1_'\n",
    "silicate= Model(sidust,prefix=prefix)\n",
    "generic_pars.update(silicate.make_params())\n",
    "sidust_defpar('sidust1', 190.,1.E-4,generic_pars)\n",
    "\n",
    "#Gaussians with FWHM and X central from Smith et al 2007\n",
    "#H2 molecular\n",
    "h2lines=['55','61','69','80','96','122']\n",
    "gaussH2=Model(Modelcero)\n",
    "for line in h2lines:\n",
    "    prefix='h'+line+'_'\n",
    "    gaussH2+=Model(gaussian,prefix=prefix)\n",
    "generic_pars.update(gaussH2.make_params())\n",
    "gaussian_defpar('h55',0.05, 5.511, 0.053,generic_pars)\n",
    "gaussian_defpar('h61',0.05, 6.109, 0.053,generic_pars)\n",
    "gaussian_defpar('h69',0.05, 6.909, 0.053,generic_pars)\n",
    "gaussian_defpar('h80',0.05, 8.026, 0.100,generic_pars)\n",
    "gaussian_defpar('h96',0.05, 9.665, 0.100,generic_pars)\n",
    "gaussian_defpar('h122',0.05, 12.278, 0.100,generic_pars)\n",
    "\n",
    "#Atomic lines\n",
    "atomiclines=['ArII','SIV','NeII']\n",
    "gaussAt=Model(Modelcero)\n",
    "for line in atomiclines:\n",
    "    prefix = line+'_'\n",
    "    gaussAt+=Model(gaussian,prefix=prefix)\n",
    "generic_pars.update(gaussAt.make_params())\n",
    "gaussian_defpar('ArII',0.05, 6.985, 0.053,generic_pars)\n",
    "gaussian_defpar('SIV',0.05, 10.511, 0.100,generic_pars)\n",
    "gaussian_defpar('NeII',0.05, 12.813, 0.100,generic_pars)\n"
   ]
  },
  {
   "cell_type": "markdown",
   "metadata": {},
   "source": [
    "#### Spiral arm spectral fit"
   ]
  },
  {
   "cell_type": "code",
   "execution_count": null,
   "metadata": {
    "collapsed": false
   },
   "outputs": [],
   "source": [
    "#Spiral arm spectrum\n",
    "spec=arm_spec\n",
    "specerr=arm_err\n",
    "\n",
    "#Model (powerlaw + individual PAHs + H2 and Atomic lines, no extinction)\n",
    "model = p_law + drudes + gaussAt + gaussH2\n",
    "\n",
    "#Adjust power law starting parameters \n",
    "setpar(generic_pars,'pwl_c1',0.01,True,None)\n",
    "setpar(generic_pars,'pwl_c2',0.001,True,None)\n",
    "\n",
    "#Fit and plot\n",
    "arm_result=fit_and_plot(spec,specerr,model,generic_pars,False)"
   ]
  },
  {
   "cell_type": "markdown",
   "metadata": {},
   "source": [
    "Model fit to integrated spectrum of spiral arm region. "
   ]
  },
  {
   "cell_type": "markdown",
   "metadata": {},
   "source": [
    "#### H2-strongest region spectral fit"
   ]
  },
  {
   "cell_type": "code",
   "execution_count": null,
   "metadata": {
    "collapsed": false
   },
   "outputs": [],
   "source": [
    "#H2 region spectrum\n",
    "spec=h2s_spec\n",
    "specerr=h2s_err\n",
    "\n",
    "#Model (powerlaw + individual PAHs + H2 and Atomic lines, no extinction)\n",
    "model = p_law + drudes + gaussAt + gaussH2\n",
    "\n",
    "#Adjust power law starting parameters \n",
    "setpar(generic_pars,'pwl_c1',0.002,True,None)\n",
    "setpar(generic_pars,'pwl_c2',0.0015,True,None)\n",
    "\n",
    "#Fit and plot\n",
    "h2s_result=fit_and_plot(spec,specerr,model,generic_pars,False)"
   ]
  },
  {
   "cell_type": "markdown",
   "metadata": {},
   "source": [
    "Model fit to integrated spectrum of H2-strongest region. "
   ]
  },
  {
   "cell_type": "markdown",
   "metadata": {},
   "source": [
    "#### Nucleus spectral fit"
   ]
  },
  {
   "cell_type": "code",
   "execution_count": null,
   "metadata": {
    "collapsed": false
   },
   "outputs": [],
   "source": [
    "#Nucleus spectrum\n",
    "spec=nuc_spec\n",
    "specerr=nuc_err\n",
    "\n",
    "#Model (powerlaw + AGN silicate emission + individual PAHs + H2 and Atomic lines, no extinction)\n",
    "model = p_law + silicate + drudes + gaussH2 + gaussAt\n",
    "\n",
    "#Adjust power law and silicate dust starting parameters\n",
    "setpar(generic_pars,'pwl_c1',0.005,True,None)\n",
    "setpar(generic_pars,'pwl_c2',0.01,True,None)\n",
    "sidust_defpar('sidust1', 190.,2.E-4,generic_pars)\n",
    "\n",
    "#Fit and plot\n",
    "nuc_result=fit_and_plot(spec,specerr,model,generic_pars,True)\n"
   ]
  },
  {
   "cell_type": "markdown",
   "metadata": {},
   "source": [
    "Model fit to nucleus, including fixed-temperature AGN silicate emission. "
   ]
  },
  {
   "cell_type": "code",
   "execution_count": null,
   "metadata": {
    "collapsed": false,
    "scrolled": true
   },
   "outputs": [],
   "source": [
    "nuc_result\n",
    "#result.fit_report(show_correl=False)"
   ]
  },
  {
   "cell_type": "code",
   "execution_count": null,
   "metadata": {
    "collapsed": false
   },
   "outputs": [],
   "source": [
    "result = model.fit(spec, generic_pars, weights=1./specerr, x=x)\n",
    "#Model Results\n",
    "fit_model = result.best_fit \n",
    "fit_residual = spec - fit_model\n",
    "\n",
    "#Evaluate model components\n",
    "comps = result.eval_components()\n",
    "plaw_model=comps['pwl_']\n",
    "h2_model=x-x\n",
    "h2comp=['h55_','h61_','h69_','h80_','h96_','h122_']\n",
    "for comp in h2comp:\n",
    "    h2_model+=comps[comp]\n",
    "ion_model=x-x\n",
    "atomiclines=['ArII','SIV','NeII']\n",
    "for comp in atomiclines:\n",
    "    ion_model+=comps[comp+'_']\n",
    "pahs_model=fit_model-plaw_model-h2_model-ion_model\n",
    "sidust_model=comps['sidust1_']\n",
    "pahs_model=pahs_model-sidust_model\n",
    "    \n",
    "f,((ax1,ax2,ax3),(ax4,ax5,ax6))=plt.subplots(2,3,figsize=(15,10))\n",
    "\n",
    "ax1.set_title('Spiral Arm')\n",
    "ax1.errorbar(x,arm_spec,yerr=arm_err, c='gold')\n",
    "ax1.set_ylabel('Flux (Jy)')\n",
    "\n",
    "ax2.set_title('Nucleus')\n",
    "ax2.errorbar(x,nuc_spec,yerr=nuc_err, c='navy')\n",
    "#ax2.plot(x, fit_model,label='Model',c='red')\n",
    "ax2.plot(x,sidust_model,label='Si Dust', c='orange')\n",
    "ax2.plot(x, pahs_model,label='PAHs',c='magenta')\n",
    "ax2.plot(x, h2_model,label='H2',c='g')\n",
    "ax2.plot(x, ion_model,label='Ions',c='b')\n",
    "\n",
    "ax3.set_title('Inner Disk')\n",
    "ax3.errorbar(x,pah_spec,yerr=pah_err, c='limegreen')\n",
    "\n",
    "ax4.set_title('H2')\n",
    "ax4.errorbar(x,h2_spec,yerr=h2_err, c='steelblue')\n",
    "ax4.set_xlabel(r\"Wavelength $(\\mu m)$\")\n",
    "ax4.set_ylabel('Flux (Jy)')\n",
    "\n",
    "ax5.set_title('All regions')\n",
    "ax5.imshow(m58_mask,origin='lower')\n",
    "ax5.set_xlabel('Pixel')\n",
    "\n",
    "ax6.set_title('H2-Strongest')\n",
    "ax6.errorbar(x,h2s_spec,yerr=h2s_err,c='teal')\n",
    "ax6.set_xlabel(r\"Wavelength $(\\mu m)$\")\n",
    "plt.show()"
   ]
  },
  {
   "cell_type": "markdown",
   "metadata": {},
   "source": [
    "Fit parameters for spectrum of nucleus"
   ]
  },
  {
   "cell_type": "markdown",
   "metadata": {
    "collapsed": true
   },
   "source": [
    "<img style=\"float: right;\" src=\"https://raw.githubusercontent.com/spacetelescope/notebooks/master/assets/stsci_pri_combo_mark_horizonal_white_bkgd.png\" alt=\"Space Telescope Logo\" width=\"200px\"/>"
   ]
  },
  {
   "cell_type": "markdown",
   "metadata": {},
   "source": [
    "Notebook created by Patrick Ogle and Ivan Lopez."
   ]
  }
 ],
 "metadata": {
  "kernelspec": {
   "display_name": "Python 3",
   "language": "python",
   "name": "python3"
  },
  "language_info": {
   "codemirror_mode": {
    "name": "ipython",
    "version": 3
   },
   "file_extension": ".py",
   "mimetype": "text/x-python",
   "name": "python",
   "nbconvert_exporter": "python",
   "pygments_lexer": "ipython3",
   "version": "3.5.2"
  }
 },
 "nbformat": 4,
 "nbformat_minor": 2
}
