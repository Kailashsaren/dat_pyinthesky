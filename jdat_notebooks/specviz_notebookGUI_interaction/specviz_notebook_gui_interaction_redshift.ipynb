{
 "cells": [
  {
   "cell_type": "markdown",
   "metadata": {},
   "source": [
    "# Specviz notebook/GUI interaction on NIRISS WFSS 1D spectra\n",
    "\n",
    "This notebook demonstrates how to inspect spectra in Specviz, export spectra from the GUI in the notebook, select regions in the GUI and in the notebook, and measure the redshift of a source in the GUI. The dataset is a JWST/NIRISS simulation of a generic scene with extended sources generated with the code MIRAGE (https://mirage-data-simulator.readthedocs.io/en/latest/) and run through the JWST calibration pipeline (https://jwst-pipeline.readthedocs.io/en/latest/).\n",
    "\n",
    "Installation instructions to include the latest version of specutils, the visualization tools (jdaviz), and implicitly Jupyter:\n",
    "- Create a fresh conda environment with python (conda create -n env_name python)\n",
    "- Activate environment (conda activate env_name)\n",
    "- Install latest specutils and jdaviz:\n",
    "    - pip install git+https://github.com/astropy/specutils.git\n",
    "    - pip install git+https://github.com/spacetelescope/jdaviz.git\n",
    "\n",
    "**Author**: Camilla Pacifici, NIRISS Instrument Scientist\n",
    "\n",
    "**Updated on**: 2021/3/4"
   ]
  },
  {
   "cell_type": "code",
   "execution_count": 1,
   "metadata": {
    "scrolled": true
   },
   "outputs": [
    {
     "data": {
      "text/html": [
       "<style>.container { width:100% !important; }</style>"
      ],
      "text/plain": [
       "<IPython.core.display.HTML object>"
      ]
     },
     "metadata": {},
     "output_type": "display_data"
    }
   ],
   "source": [
    "#to use 100% of the browser window\n",
    "from IPython.core.display import display, HTML\n",
    "display(HTML(\"<style>.container { width:100% !important; }</style>\"))"
   ]
  },
  {
   "cell_type": "markdown",
   "metadata": {},
   "source": [
    "Imports:\n",
    "- matplotlib for plotting data\n",
    "- astropy for handling of fits files, units, and tables\n",
    "- specutils for interactions with Specviz and region definition/extraction\n",
    "- jdaviz for the visualization tool Specviz"
   ]
  },
  {
   "cell_type": "code",
   "execution_count": 2,
   "metadata": {
    "scrolled": true
   },
   "outputs": [
    {
     "name": "stderr",
     "output_type": "stream",
     "text": [
      "/Users/cpacifici/miniconda3/envs/jdaviz_hh/lib/python3.8/site-packages/glue/external/echo/__init__.py:3: UserWarning: glue.external.echo is deprecated, import from echo directly instead\n",
      "  warnings.warn('glue.external.echo is deprecated, import from echo directly instead')\n"
     ]
    }
   ],
   "source": [
    "#plotting and tabling\n",
    "import matplotlib.pyplot as plt\n",
    "\n",
    "#import astropy\n",
    "import astropy\n",
    "import astropy.units as u\n",
    "from astropy.io import fits\n",
    "from astropy.nddata import StdDevUncertainty\n",
    "from astropy.table import QTable\n",
    "\n",
    "#import specutils\n",
    "import specutils\n",
    "from specutils import Spectrum1D, SpectralRegion\n",
    "from specutils.manipulation import extract_region\n",
    "\n",
    "#import viztools\n",
    "import jdaviz\n",
    "from jdaviz import SpecViz"
   ]
  },
  {
   "cell_type": "code",
   "execution_count": 3,
   "metadata": {},
   "outputs": [],
   "source": [
    "#customization of matplotlib style\n",
    "plt.rcParams[\"figure.figsize\"] = (10,5)\n",
    "params={'legend.fontsize':'18','axes.labelsize':'18',\n",
    "        'axes.titlesize':'18','xtick.labelsize':'18',\n",
    "        'ytick.labelsize':'18','lines.linewidth':2,\n",
    "        'axes.linewidth':2,'animation.html': 'html5',\n",
    "        'figure.figsize':(8,6)}\n",
    "plt.rcParams.update(params)\n",
    "plt.rcParams.update({'figure.max_open_warning': 0})"
   ]
  },
  {
   "cell_type": "markdown",
   "metadata": {},
   "source": [
    "Check versions"
   ]
  },
  {
   "cell_type": "code",
   "execution_count": 4,
   "metadata": {
    "scrolled": true
   },
   "outputs": [
    {
     "name": "stdout",
     "output_type": "stream",
     "text": [
      "astropy: 4.2\n",
      "specutils: 1.2.dev120+g625e0549\n",
      "jdaviz: 1.0.4.dev346+g8342393\n"
     ]
    }
   ],
   "source": [
    "print('astropy:',astropy.__version__)\n",
    "print('specutils:',specutils.__version__)\n",
    "print('jdaviz:',jdaviz.__version__)"
   ]
  },
  {
   "cell_type": "markdown",
   "metadata": {},
   "source": [
    "## 1. Load NIRISS pipeline output\n",
    "The JWST/NIRISS simulation is stored on box. We work with the x1d file which contains all extracted 1D spectra."
   ]
  },
  {
   "cell_type": "code",
   "execution_count": 5,
   "metadata": {
    "scrolled": true
   },
   "outputs": [
    {
     "name": "stdout",
     "output_type": "stream",
     "text": [
      "Filename: /Users/cpacifici/.astropy/cache/download/url/33545d5dbd50d26d5a9838f2d2259699/contents\n",
      "No.    Name      Ver    Type      Cards   Dimensions   Format\n",
      "  0  PRIMARY       1 PrimaryHDU     259   ()      \n",
      "  1  EXTRACT1D     1 BinTableHDU     47   3R x 9C   [D, D, D, D, D, J, D, D, D]   \n",
      "  2  EXTRACT1D     2 BinTableHDU     47   19R x 9C   [D, D, D, D, D, J, D, D, D]   \n",
      "  3  EXTRACT1D     3 BinTableHDU     47   78R x 9C   [D, D, D, D, D, J, D, D, D]   \n",
      "  4  EXTRACT1D     4 BinTableHDU     47   107R x 9C   [D, D, D, D, D, J, D, D, D]   \n",
      "  5  EXTRACT1D     5 BinTableHDU     47   110R x 9C   [D, D, D, D, D, J, D, D, D]   \n",
      "  6  EXTRACT1D     6 BinTableHDU     47   107R x 9C   [D, D, D, D, D, J, D, D, D]   \n",
      "  7  EXTRACT1D     7 BinTableHDU     47   105R x 9C   [D, D, D, D, D, J, D, D, D]   \n",
      "  8  EXTRACT1D     8 BinTableHDU     47   112R x 9C   [D, D, D, D, D, J, D, D, D]   \n",
      "  9  EXTRACT1D     9 BinTableHDU     47   107R x 9C   [D, D, D, D, D, J, D, D, D]   \n",
      " 10  EXTRACT1D    10 BinTableHDU     47   109R x 9C   [D, D, D, D, D, J, D, D, D]   \n",
      " 11  EXTRACT1D    11 BinTableHDU     47   109R x 9C   [D, D, D, D, D, J, D, D, D]   \n",
      " 12  EXTRACT1D    12 BinTableHDU     47   116R x 9C   [D, D, D, D, D, J, D, D, D]   \n",
      " 13  EXTRACT1D    13 BinTableHDU     47   103R x 9C   [D, D, D, D, D, J, D, D, D]   \n",
      " 14  EXTRACT1D    14 BinTableHDU     47   111R x 9C   [D, D, D, D, D, J, D, D, D]   \n",
      " 15  EXTRACT1D    15 BinTableHDU     47   104R x 9C   [D, D, D, D, D, J, D, D, D]   \n",
      " 16  EXTRACT1D    16 BinTableHDU     47   101R x 9C   [D, D, D, D, D, J, D, D, D]   \n",
      " 17  EXTRACT1D    17 BinTableHDU     47   109R x 9C   [D, D, D, D, D, J, D, D, D]   \n",
      " 18  EXTRACT1D    18 BinTableHDU     47   107R x 9C   [D, D, D, D, D, J, D, D, D]   \n",
      " 19  EXTRACT1D    19 BinTableHDU     47   108R x 9C   [D, D, D, D, D, J, D, D, D]   \n",
      " 20  ASDF          1 BinTableHDU     11   1R x 1C   [101454B]   \n"
     ]
    }
   ],
   "source": [
    "filelink = 'https://data.science.stsci.edu/redirect/JWST/jwst-data_analysis_tools/specviz_notebook_gui_interaction/basic_F150W_WFSSR_dit1_x1d.fits'\n",
    "hdu = fits.open(filelink)\n",
    "\n",
    "hdu.info()"
   ]
  },
  {
   "cell_type": "markdown",
   "metadata": {},
   "source": [
    "## 2. Open Specviz and load all the 1D spectra\n",
    "Parsers are not ready for all instruments, so we load the spectrum manually and we write in a Spectrum1D."
   ]
  },
  {
   "cell_type": "markdown",
   "metadata": {},
   "source": [
    "**Developer note:**\n",
    "\n",
    "We need a parser for NIRISS WFSS x1d.fits files."
   ]
  },
  {
   "cell_type": "code",
   "execution_count": 6,
   "metadata": {
    "scrolled": false
   },
   "outputs": [
    {
     "data": {
      "application/vnd.jupyter.widget-view+json": {
       "model_id": "88f29984e51e4c0087234b6742160e40",
       "version_major": 2,
       "version_minor": 0
      },
      "text/plain": [
       "Application(components={'g-viewer-tab': '<template>\\n  <component :is=\"stack.container\">\\n    <g-viewer-tab\\n …"
      ]
     },
     "metadata": {},
     "output_type": "display_data"
    }
   ],
   "source": [
    "viz = SpecViz()\n",
    "viz.app"
   ]
  },
  {
   "cell_type": "markdown",
   "metadata": {},
   "source": [
    "The following cell opens one-by-one the extensions of the x1d file, creates Spectrum1D objects for all the spectra, and loads them into Specviz. A mask is set to only keep the part of the spectra with good sensitivity (1.34 to 1.66 micron) in the F150W filter. The for loop runs from 2 to 19, because spectra 0 and 1 have very short extraction boxes and are not useful for this work (this can be seen in the dimentions of the extensions of the fits file). The spectra are also inverted. The pipeline extracts them in reverse wavelength order because the dispersion direction is from right to left on the detector."
   ]
  },
  {
   "cell_type": "code",
   "execution_count": 7,
   "metadata": {
    "scrolled": true
   },
   "outputs": [],
   "source": [
    "for i in range (2,19):\n",
    "    spec_load = hdu[i+1].data\n",
    "\n",
    "    #invert axis\n",
    "    wave = spec_load['WAVELENGTH']\n",
    "    flux = spec_load['FLUX']\n",
    "    error = spec_load['ERROR']\n",
    "    invwave = wave[::-1]\n",
    "    invflux = flux[::-1]\n",
    "    inverror = error[::-1]\n",
    "\n",
    "    #mask the parts where the sensitivity in the bandpass is poor\n",
    "    mask = ((invwave>1.34) & (invwave<1.66))\n",
    "\n",
    "    spec1d = Spectrum1D(spectral_axis=invwave[mask]*u.um, \n",
    "                    flux=invflux[mask]*u.Jy, \n",
    "                    uncertainty=StdDevUncertainty(inverror[mask]*u.Jy)) #\n",
    "    \n",
    "    viz.load_spectrum(spec1d,\"NIRISS 1D {}\".format(str(i+1)))\n",
    "\n",
    "    #print(spec1d)"
   ]
  },
  {
   "cell_type": "markdown",
   "metadata": {},
   "source": [
    "This is just for quick look to see all the spectra that are in the file. We can go to the hammer and screwdriver icon, then the gear icon and select/deselect the spectra. We find our favorite spectrum (NIRISS ID 6) and work with that."
   ]
  },
  {
   "attachments": {
    "Screen%20Shot%202021-01-15%20at%202.29.57%20PM.png": {
     "image/png": "[encoded data removed]"
    }
   },
   "cell_type": "markdown",
   "metadata": {},
   "source": [
    "## 3. Select the emission lines using the GUI and in the notebook\n",
    "I open the hammer and screwdriver menu and click the \"Select range of x values\" icon. Then I select the region spanning the emission lines from roughly 1.35 to 1.43 microns.\n",
    "\n",
    "Instructions: https://jdaviz.readthedocs.io/en/latest/specviz/displaying.html#defining-spectral-regions\n",
    "\n",
    "![Screen%20Shot%202021-01-15%20at%202.29.57%20PM.png](attachment:Screen%20Shot%202021-01-15%20at%202.29.57%20PM.png)"
   ]
  },
  {
   "cell_type": "markdown",
   "metadata": {},
   "source": [
    "### See what data is used in this specviz istance"
   ]
  },
  {
   "cell_type": "code",
   "execution_count": 8,
   "metadata": {},
   "outputs": [
    {
     "name": "stderr",
     "output_type": "stream",
     "text": [
      "WARNING:root:Warning: Applying the value from the redshift slider to the output spectra. To avoid seeing this warning, explicitly set the apply_slider_redshift argument to True or False.\n"
     ]
    }
   ],
   "source": [
    "dataout = viz.get_spectra()\n",
    "spec1d_line = dataout[\"NIRISS 1D 6\"]"
   ]
  },
  {
   "cell_type": "code",
   "execution_count": 9,
   "metadata": {},
   "outputs": [
    {
     "name": "stdout",
     "output_type": "stream",
     "text": [
      "Spectrum1D (length=69)\n",
      "flux:             [ 1.17e-06 Jy, ..., 1.3069e-06 Jy ],  mean=1.4173e-06 Jy\n",
      "spectral axis:    [ 1.3402 um, ..., 1.6585 um ],  mean=1.4994 um\n",
      "uncertainty:      [ StdDevUncertainty(0.), ..., StdDevUncertainty(0.) ]\n"
     ]
    }
   ],
   "source": [
    "print(spec1d_line)"
   ]
  },
  {
   "cell_type": "markdown",
   "metadata": {},
   "source": [
    "### See the subsets defined in the GUI\n",
    "I include a try-except in case the notebook is run without human interaction."
   ]
  },
  {
   "cell_type": "code",
   "execution_count": 10,
   "metadata": {
    "scrolled": true
   },
   "outputs": [
    {
     "name": "stdout",
     "output_type": "stream",
     "text": [
      "No region defined in the GUI\n"
     ]
    }
   ],
   "source": [
    "try:\n",
    "    region = viz.get_spectral_regions()\n",
    "    print(region['Subset 1'])\n",
    "except:\n",
    "    print(\"No region defined in the GUI\")"
   ]
  },
  {
   "cell_type": "markdown",
   "metadata": {},
   "source": [
    "### Select the same region programmatically\n",
    "I can define my own region (cont_region) between arbitrary bounds. I choose 1.35um and 1.42um. I can then extract the spectrum in that region."
   ]
  },
  {
   "cell_type": "code",
   "execution_count": 11,
   "metadata": {
    "scrolled": true
   },
   "outputs": [
    {
     "name": "stdout",
     "output_type": "stream",
     "text": [
      "Spectrum1D (length=15)\n",
      "flux:             [ 1.6059e-06 Jy, ..., 1.3176e-06 Jy ],  mean=2.4411e-06 Jy\n",
      "spectral axis:    [ 1.3543 um, ..., 1.4198 um ],  mean=1.387 um\n",
      "uncertainty:      [ StdDevUncertainty(0.), ..., StdDevUncertainty(0.) ]\n"
     ]
    }
   ],
   "source": [
    "cont_region = SpectralRegion(1.35*u.um,1.42*u.um)\n",
    "spec1d_el_code = extract_region(spec1d_line, cont_region)\n",
    "print(spec1d_el_code)"
   ]
  },
  {
   "cell_type": "markdown",
   "metadata": {},
   "source": [
    "Or I can extract the spectrum in the region I defined in the GUI (region['Subset 1'])."
   ]
  },
  {
   "cell_type": "code",
   "execution_count": 12,
   "metadata": {
    "scrolled": true
   },
   "outputs": [
    {
     "name": "stdout",
     "output_type": "stream",
     "text": [
      "Region was not defined in the GUI\n"
     ]
    }
   ],
   "source": [
    "try:\n",
    "    spec1d_el_viz = extract_region(spec1d_line, region['Subset 1'])\n",
    "    print(spec1d_el_viz)\n",
    "except:\n",
    "    print(\"Region was not defined in the GUI\")\n",
    "    #define spec1d_el_viz as spec1d_el_code\n",
    "    spec1d_el_viz = spec1d_el_code"
   ]
  },
  {
   "cell_type": "markdown",
   "metadata": {},
   "source": [
    "### Plot the spectrum and the subset with matplotlib"
   ]
  },
  {
   "cell_type": "code",
   "execution_count": 13,
   "metadata": {
    "scrolled": false
   },
   "outputs": [
    {
     "data": {
      "image/png": "[encoded data removed]",
      "text/plain": [
       "<Figure size 576x432 with 1 Axes>"
      ]
     },
     "metadata": {
      "needs_background": "light"
     },
     "output_type": "display_data"
    }
   ],
   "source": [
    "plt.plot(spec1d_line.spectral_axis,spec1d_line.flux)\n",
    "plt.plot(spec1d_el_viz.spectral_axis,spec1d_el_viz.flux)\n",
    "\n",
    "plt.xlabel(\"wavelength ({:latex})\".format(spec1d_line.spectral_axis.unit))\n",
    "plt.ylabel(\"flux ({:latex})\".format(spec1d_line.flux.unit))\n",
    "plt.title(\"NIRISS ID 6\")\n",
    "plt.show()\n"
   ]
  },
  {
   "cell_type": "markdown",
   "metadata": {},
   "source": [
    "## 4. Use the redshift slider in Specviz to find the redshift"
   ]
  },
  {
   "cell_type": "markdown",
   "metadata": {},
   "source": [
    "I start by opening a new instance of Specviz so that I do not have to scroll up and down too much."
   ]
  },
  {
   "cell_type": "code",
   "execution_count": 14,
   "metadata": {
    "scrolled": false
   },
   "outputs": [
    {
     "data": {
      "application/vnd.jupyter.widget-view+json": {
       "model_id": "dbbcc303f0b04044be660be2e048abfb",
       "version_major": 2,
       "version_minor": 0
      },
      "text/plain": [
       "Application(components={'g-viewer-tab': '<template>\\n  <component :is=\"stack.container\">\\n    <g-viewer-tab\\n …"
      ]
     },
     "metadata": {},
     "output_type": "display_data"
    }
   ],
   "source": [
    "viz2 = SpecViz()\n",
    "viz2.app"
   ]
  },
  {
   "cell_type": "markdown",
   "metadata": {},
   "source": [
    "I load just the interesting spectrum (spec1d_line)."
   ]
  },
  {
   "cell_type": "code",
   "execution_count": 15,
   "metadata": {
    "scrolled": false
   },
   "outputs": [],
   "source": [
    "viz2.load_spectrum(spec1d_line,\"NIRISS 1D lines\")"
   ]
  },
  {
   "cell_type": "markdown",
   "metadata": {},
   "source": [
    "I can use an available line lists or define my own lines (I know I need Hb4861.3 and the [OIII]4958.9,5006.8 doublet) and play with the redshift slider to match the lines in the line list with the lines in the spectrum. The line list plugin can be found clicking the Lego icon on the upper right of the viewer. To input just the three lines, I can use the \"Custom\" menu.\n",
    "\n",
    "Here is the documentation where line lists are explained: https://jdaviz.readthedocs.io/en/latest/specviz/plugins.html#line-lists\n",
    "\n",
    "I can also define the lines of interest programmatically, as shown in the following cell."
   ]
  },
  {
   "cell_type": "code",
   "execution_count": 16,
   "metadata": {},
   "outputs": [],
   "source": [
    "lt = QTable()\n",
    "lt['linename'] = ['Hb','[OIII]1','[OIII]2']\n",
    "lt['rest'] = [4861.3,4958.9,5006.8]*u.AA\n",
    "\n",
    "viz2.load_line_list(lt)"
   ]
  },
  {
   "cell_type": "markdown",
   "metadata": {},
   "source": [
    "The lines are not showing now because their rest value is outside the range plotted here. I can move the lines using the redshift slider at the top. It is best to first set the redshift to 2 in the box with the number and then move the slider to bring the lines on top of the observed emission lines."
   ]
  },
  {
   "cell_type": "markdown",
   "metadata": {},
   "source": [
    "### Get the redshift out in the Spectrum1D object"
   ]
  },
  {
   "cell_type": "code",
   "execution_count": 17,
   "metadata": {
    "scrolled": false
   },
   "outputs": [
    {
     "name": "stderr",
     "output_type": "stream",
     "text": [
      "WARNING:root:Warning: Applying the value from the redshift slider to the output spectra. To avoid seeing this warning, explicitly set the apply_slider_redshift argument to True or False.\n"
     ]
    },
    {
     "name": "stdout",
     "output_type": "stream",
     "text": [
      "Spectrum1D (length=69)\n",
      "flux:             [ 1.17e-06 Jy, ..., 1.3069e-06 Jy ],  mean=1.4173e-06 Jy\n",
      "spectral axis:    [ 1.3402 um, ..., 1.6585 um ],  mean=1.4994 um\n",
      "uncertainty:      [ StdDevUncertainty(0.), ..., StdDevUncertainty(0.) ]\n",
      "\n",
      "Redshift was not defined in GUI. Defining it here.\n",
      "NIRISS 1D lines redshift= 1.7979999999999996\n"
     ]
    }
   ],
   "source": [
    "spec1d_redshift = viz2.get_spectra()[\"NIRISS 1D lines\"]\n",
    "print(spec1d_redshift)\n",
    "\n",
    "print()\n",
    "\n",
    "if spec1d_redshift.redshift != 0.0:\n",
    "    print(\"NIRISS 1D lines redshift=\",spec1d_redshift.redshift)\n",
    "else:\n",
    "    print(\"Redshift was not defined in GUI. Defining it here.\")\n",
    "    spec1d_redshift.redshift = 1.798\n",
    "    print(\"NIRISS 1D lines redshift=\",spec1d_redshift.redshift)"
   ]
  },
  {
   "cell_type": "markdown",
   "metadata": {},
   "source": [
    "## 5. Model the continuum of the spectrum"
   ]
  },
  {
   "cell_type": "markdown",
   "metadata": {},
   "source": [
    "I open another instance of Specviz and load the same specrum used before."
   ]
  },
  {
   "cell_type": "code",
   "execution_count": 18,
   "metadata": {
    "scrolled": false
   },
   "outputs": [
    {
     "data": {
      "application/vnd.jupyter.widget-view+json": {
       "model_id": "43b83241ac4d4d559be8c493d52af525",
       "version_major": 2,
       "version_minor": 0
      },
      "text/plain": [
       "Application(components={'g-viewer-tab': '<template>\\n  <component :is=\"stack.container\">\\n    <g-viewer-tab\\n …"
      ]
     },
     "metadata": {},
     "output_type": "display_data"
    }
   ],
   "source": [
    "viz3 = SpecViz()\n",
    "viz3.app"
   ]
  },
  {
   "cell_type": "code",
   "execution_count": 19,
   "metadata": {},
   "outputs": [],
   "source": [
    "viz3.load_spectrum(spec1d_line,\"NIRISS 1D lines\")"
   ]
  },
  {
   "cell_type": "markdown",
   "metadata": {},
   "source": [
    "I can use the GUI to select the region where I see the continuum. This is between 1.45 and 1.63 microns roughly. To do so, I go to the hammer and screwdriver icon and use the Select Region button."
   ]
  },
  {
   "cell_type": "markdown",
   "metadata": {},
   "source": [
    "I can then use the Model Fitting plugin under the Lego icon to fit a linear model to the selected region. Instructions can be found here: https://jdaviz.readthedocs.io/en/latest/specviz/plugins.html#model-fitting. The individual steps to complete this task are:\n",
    "- Select Subset 1 under Data\n",
    "- Select Linear1D under Model\n",
    "- Enter a model ID under Model ID (I use \"lin\")\n",
    "- Click Add model\n",
    "- Enter the needed combination of models under Model Equation Editor (it is just one model here, so I enter just \"lin\")\n",
    "- Enter a name for the model under Model Label (I choose \"continuum\")\n",
    "- Click Fit\n",
    "- Click Add to viewer\n",
    "- Go to the hammer and screwdiver icon, then gear icon, and select the new dataset \"continuum\"."
   ]
  },
  {
   "cell_type": "markdown",
   "metadata": {},
   "source": [
    "I can extract the model from the datasets in use.\n",
    "\n",
    "**Developer Note:**\n",
    "\n",
    "I would like to be able to extract also the model parameters, not just the model spectrum. This is being worked on."
   ]
  },
  {
   "cell_type": "code",
   "execution_count": 20,
   "metadata": {},
   "outputs": [
    {
     "name": "stderr",
     "output_type": "stream",
     "text": [
      "WARNING:root:Warning: Applying the value from the redshift slider to the output spectra. To avoid seeing this warning, explicitly set the apply_slider_redshift argument to True or False.\n"
     ]
    },
    {
     "name": "stdout",
     "output_type": "stream",
     "text": [
      "Continuum has not been created. Setting it to 0\n"
     ]
    }
   ],
   "source": [
    "try:\n",
    "    dataout3 = viz3.get_spectra()\n",
    "    spectrum = dataout3[\"NIRISS 1D lines\"] #this is exactly the same as the spec1d_lines loaded a few cells above\n",
    "    continuum = dataout3[\"continuum\"]\n",
    "except:\n",
    "    print(\"Continuum has not been created. Setting it to 0\")\n",
    "    continuum = Spectrum1D(spectral_axis=spectrum.spectral_axis, flux= 0.*spectrum.flux)"
   ]
  },
  {
   "cell_type": "markdown",
   "metadata": {},
   "source": [
    "I can do a continuum subtraction and plot the result with matplotlib. If the continuum has not been defined in the GUI, this operation returns the original spectrum unchanged."
   ]
  },
  {
   "cell_type": "code",
   "execution_count": 21,
   "metadata": {},
   "outputs": [],
   "source": [
    "spectrum_sub = spectrum - continuum"
   ]
  },
  {
   "cell_type": "code",
   "execution_count": 22,
   "metadata": {},
   "outputs": [
    {
     "data": {
      "image/png": "[encoded data removed]",
      "text/plain": [
       "<Figure size 576x432 with 1 Axes>"
      ]
     },
     "metadata": {
      "needs_background": "light"
     },
     "output_type": "display_data"
    }
   ],
   "source": [
    "plt.plot(spectrum_sub.spectral_axis,spectrum_sub.flux)\n",
    "plt.hlines(0,1.3,1.7,color='black')\n",
    "\n",
    "plt.xlabel(\"wavelength ({:latex})\".format(spectrum_sub.spectral_axis.unit))\n",
    "plt.ylabel(\"flux ({:latex})\".format(spectrum_sub.flux.unit))\n",
    "plt.title(\"NIRISS ID 6\")\n",
    "plt.show()\n"
   ]
  },
  {
   "cell_type": "markdown",
   "metadata": {
    "scrolled": true
   },
   "source": [
    "<img style=\"float: right;\" src=\"https://raw.githubusercontent.com/spacetelescope/notebooks/master/assets/stsci_pri_combo_mark_horizonal_white_bkgd.png\" alt=\"Space Telescope Logo\" width=\"200px\"/>"
   ]
  },
  {
   "cell_type": "code",
   "execution_count": null,
   "metadata": {},
   "outputs": [],
   "source": []
  }
 ],
 "metadata": {
  "kernelspec": {
   "display_name": "Python 3",
   "language": "python",
   "name": "python3"
  },
  "language_info": {
   "codemirror_mode": {
    "name": "ipython",
    "version": 3
   },
   "file_extension": ".py",
   "mimetype": "text/x-python",
   "name": "python",
   "nbconvert_exporter": "python",
   "pygments_lexer": "ipython3",
   "version": "3.8.8"
  }
 },
 "nbformat": 4,
 "nbformat_minor": 4
}
