{
 "cells": [
  {
   "cell_type": "markdown",
   "metadata": {},
   "source": [
    "# Specviz notebook/GUI interaction on NIRISS WFSS 1D spectra\n",
    "\n",
    "In environment jdaviz_redshift from rosteen branch on 01/05/2021\n",
    "\n",
    "Author: Camilla Pacifici, NIRISS Instrument Scientist"
   ]
  },
  {
   "cell_type": "code",
   "execution_count": null,
   "metadata": {
    "scrolled": true
   },
   "outputs": [],
   "source": [
    "from IPython.core.display import display, HTML\n",
    "display(HTML(\"<style>.container { width:100% !important; }</style>\"))"
   ]
  },
  {
   "cell_type": "code",
   "execution_count": null,
   "metadata": {
    "scrolled": true
   },
   "outputs": [],
   "source": [
    "#plotting and tabling\n",
    "import matplotlib.pyplot as plt\n",
    "plt.rcParams[\"figure.figsize\"] = (10,5)\n",
    "\n",
    "params={'legend.fontsize':'18','axes.labelsize':'18',\n",
    "        'axes.titlesize':'18','xtick.labelsize':'18',\n",
    "        'ytick.labelsize':'18','lines.linewidth':2,\n",
    "        'axes.linewidth':2,'animation.html': 'html5',\n",
    "        'figure.figsize':(8,6)}\n",
    "plt.rcParams.update(params)\n",
    "plt.rcParams.update({'figure.max_open_warning': 0})\n",
    "import matplotlib.patches as patches\n",
    "\n",
    "#import astropy\n",
    "import astropy\n",
    "import astropy.units as u\n",
    "from astropy.io import fits\n",
    "from astropy.nddata import StdDevUncertainty\n",
    "\n",
    "#import specutils\n",
    "import specutils\n",
    "from specutils import Spectrum1D, SpectralRegion\n",
    "from specutils.manipulation import extract_region\n",
    "\n",
    "#import viztools\n",
    "import jdaviz\n",
    "from jdaviz import SpecViz"
   ]
  },
  {
   "cell_type": "markdown",
   "metadata": {},
   "source": [
    "Check versions"
   ]
  },
  {
   "cell_type": "code",
   "execution_count": null,
   "metadata": {
    "scrolled": true
   },
   "outputs": [],
   "source": [
    "print('astropy:',astropy.__version__)\n",
    "print('specutils:',specutils.__version__)\n",
    "print('jdaviz:',jdaviz.__version__)"
   ]
  },
  {
   "cell_type": "markdown",
   "metadata": {},
   "source": [
    "## 1. Load NIRISS pipeline output\n",
    "We work with the x1d file which contains all extracted 1D spectra.\n",
    "I want to do this with three filters! (But I only have F150W for now)"
   ]
  },
  {
   "cell_type": "code",
   "execution_count": null,
   "metadata": {
    "scrolled": true
   },
   "outputs": [],
   "source": [
    "filelink = 'https://data.science.stsci.edu/redirect/JWST/jwst-data_analysis_tools/specviz_notebook_gui_interaction/basic_F150W_WFSSR_dit1_x1d.fits'\n",
    "hdu = fits.open(filelink)\n",
    "\n",
    "hdu.info()"
   ]
  },
  {
   "cell_type": "markdown",
   "metadata": {},
   "source": [
    "## 2. Open Specviz and load all the 1D spectra\n",
    "Parsers are not ready for all instruments, so we load the spectrum manually and we write in a Spectrum1D."
   ]
  },
  {
   "cell_type": "markdown",
   "metadata": {},
   "source": [
    "**Developer note:**\n",
    "\n",
    "We need a parser for NIRISS WFSS x1d.fits files."
   ]
  },
  {
   "cell_type": "code",
   "execution_count": null,
   "metadata": {
    "scrolled": false
   },
   "outputs": [],
   "source": [
    "viz = SpecViz()\n",
    "viz.app"
   ]
  },
  {
   "cell_type": "code",
   "execution_count": null,
   "metadata": {
    "scrolled": true
   },
   "outputs": [],
   "source": [
    "for i in range (2,18):\n",
    "    spec_load = hdu[i+1].data\n",
    "\n",
    "    #invert axis\n",
    "    wave = spec_load['WAVELENGTH']\n",
    "    flux = spec_load['FLUX']\n",
    "    error = spec_load['ERROR']\n",
    "    invwave = wave[::-1]\n",
    "    invflux = flux[::-1]\n",
    "    inverror = error[::-1]\n",
    "\n",
    "    #mask the parts where the sensitivity in the bandpass is poor\n",
    "    mask = ((invwave>1.34) & (invwave<1.66))\n",
    "\n",
    "    spec1d = Spectrum1D(spectral_axis=invwave[mask]*u.um, \n",
    "                    flux=invflux[mask]*u.Jy, \n",
    "                    uncertainty=StdDevUncertainty(inverror[mask]*u.Jy)) #\n",
    "    \n",
    "    viz.load_spectrum(spec1d,\"NIRISS 1D {}\".format(str(i+1)))\n",
    "\n",
    "    #print(spec1d)"
   ]
  },
  {
   "cell_type": "markdown",
   "metadata": {},
   "source": [
    "This is just for quick look to see all the spectra that are in the file. We find our favorite spectrum and work with that."
   ]
  },
  {
   "cell_type": "markdown",
   "metadata": {},
   "source": [
    "### I select the emission lines by hand in the GUI to create subset 1"
   ]
  },
  {
   "cell_type": "markdown",
   "metadata": {},
   "source": [
    "### See what data is used in this specviz istance"
   ]
  },
  {
   "cell_type": "code",
   "execution_count": null,
   "metadata": {
    "scrolled": false
   },
   "outputs": [],
   "source": [
    "dataout = viz.app.get_data_from_viewer(\"spectrum-viewer\")\n",
    "spec1d_line = dataout[\"NIRISS 1D 6\"]"
   ]
  },
  {
   "cell_type": "code",
   "execution_count": null,
   "metadata": {},
   "outputs": [],
   "source": [
    "print(spec1d_line)"
   ]
  },
  {
   "cell_type": "markdown",
   "metadata": {},
   "source": [
    "**Developer note:**\n",
    "\n",
    "This is a workaround while waiting for a specutils PR to be merged. https://github.com/astropy/specutils/pull/722"
   ]
  },
  {
   "cell_type": "markdown",
   "metadata": {},
   "source": [
    "### See how the subsets are defined"
   ]
  },
  {
   "cell_type": "code",
   "execution_count": null,
   "metadata": {
    "scrolled": true
   },
   "outputs": [],
   "source": [
    "region = viz.get_spectral_regions()\n",
    "region['Subset 1']"
   ]
  },
  {
   "cell_type": "markdown",
   "metadata": {},
   "source": [
    "## Now I can do the same thing in coding\n",
    "I can define my own region (cont_region) between arbitrary bounds. I choose 1.35um and 1.42um."
   ]
  },
  {
   "cell_type": "code",
   "execution_count": null,
   "metadata": {
    "scrolled": true
   },
   "outputs": [],
   "source": [
    "cont_region = SpectralRegion(1.35*u.um,1.42*u.um)\n",
    "spec1d_el_hand = extract_region(spec1d_line, cont_region)\n",
    "print(spec1d_el_hand)"
   ]
  },
  {
   "cell_type": "markdown",
   "metadata": {},
   "source": [
    "Or I can use the region I defined by hand in the GUI (region['Subset 1'])."
   ]
  },
  {
   "cell_type": "code",
   "execution_count": null,
   "metadata": {
    "scrolled": true
   },
   "outputs": [],
   "source": [
    "spec1d_el_viz = extract_region(spec1d_line, region['Subset 1'])\n",
    "print(spec1d_el_viz)"
   ]
  },
  {
   "cell_type": "markdown",
   "metadata": {},
   "source": [
    "### I can plot the spectrum and the subset with matplotlib"
   ]
  },
  {
   "cell_type": "code",
   "execution_count": null,
   "metadata": {
    "scrolled": false
   },
   "outputs": [],
   "source": [
    "plt.plot(spec1d_line.spectral_axis,spec1d_line.flux)\n",
    "plt.plot(spec1d_el_viz.spectral_axis,spec1d_el_viz.flux)\n",
    "\n",
    "plt.xlabel(\"wavelength ({:latex})\".format(spec1d_line.spectral_axis.unit))\n",
    "plt.ylabel(\"flux ({:latex})\".format(spec1d_line.flux.unit))\n",
    "plt.title(\"NIRISS ID 6\")\n",
    "plt.show()\n"
   ]
  },
  {
   "cell_type": "markdown",
   "metadata": {},
   "source": [
    "## 4. Use the redshift slider in Specviz to find the redshift"
   ]
  },
  {
   "cell_type": "markdown",
   "metadata": {},
   "source": [
    "I start by opening a new instance of Specviz."
   ]
  },
  {
   "cell_type": "code",
   "execution_count": null,
   "metadata": {
    "scrolled": false
   },
   "outputs": [],
   "source": [
    "viz2 = SpecViz()\n",
    "viz2.app"
   ]
  },
  {
   "cell_type": "markdown",
   "metadata": {},
   "source": [
    "And I load just the interesting spectrum (spec1d_line)."
   ]
  },
  {
   "cell_type": "code",
   "execution_count": null,
   "metadata": {
    "scrolled": false
   },
   "outputs": [],
   "source": [
    "viz2.load_spectrum(spec1d_line,\"NIRISS 1D lines\")"
   ]
  },
  {
   "cell_type": "markdown",
   "metadata": {},
   "source": [
    "I can use an available line lists or define my own lines (I know I need Hb4861.3 and the [OIII]4958.9,5006.8 doublet) and play with the redshift slider to match the lines in the line list with the lines in the spectrum."
   ]
  },
  {
   "cell_type": "markdown",
   "metadata": {},
   "source": [
    "### Get the redshift out in the Spectrum1D object"
   ]
  },
  {
   "cell_type": "code",
   "execution_count": null,
   "metadata": {
    "scrolled": false
   },
   "outputs": [],
   "source": [
    "spec1d_redshift_out = viz2.app.get_data_from_viewer(\"spectrum-viewer\")[\"NIRISS 1D lines\"]\n",
    "spec1d_redshift = Spectrum1D(spec1d_redshift_out, redshift=viz2._redshift)"
   ]
  },
  {
   "cell_type": "markdown",
   "metadata": {},
   "source": [
    "## 5. Use specutils to combine the 3 filters for all spectra"
   ]
  },
  {
   "cell_type": "markdown",
   "metadata": {},
   "source": [
    "I have not created the simulations in the other two filters yet."
   ]
  },
  {
   "cell_type": "code",
   "execution_count": null,
   "metadata": {
    "scrolled": true
   },
   "outputs": [],
   "source": []
  }
 ],
 "metadata": {
  "kernelspec": {
   "display_name": "Python 3",
   "language": "python",
   "name": "python3"
  },
  "language_info": {
   "codemirror_mode": {
    "name": "ipython",
    "version": 3
   },
   "file_extension": ".py",
   "mimetype": "text/x-python",
   "name": "python",
   "nbconvert_exporter": "python",
   "pygments_lexer": "ipython3",
   "version": "3.8.6"
  }
 },
 "nbformat": 4,
 "nbformat_minor": 4
}
